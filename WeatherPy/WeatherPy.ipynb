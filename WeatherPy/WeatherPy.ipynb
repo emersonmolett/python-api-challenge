{
 "cells": [
  {
   "cell_type": "markdown",
   "metadata": {},
   "source": [
    "# WeatherPy\n",
    "----\n",
    "\n",
    "#### Note\n",
    "* Instructions have been included for each segment. You do not have to follow them exactly, but they are included to help you think through the steps."
   ]
  },
  {
   "cell_type": "code",
   "execution_count": 1,
   "metadata": {
    "scrolled": true
   },
   "outputs": [],
   "source": [
    "# Dependencies and Setup\n",
    "import matplotlib.pyplot as plt\n",
    "import pandas as pd\n",
    "import numpy as np\n",
    "import requests\n",
    "import time\n",
    "from scipy.stats import linregress\n",
    "import json\n",
    "import scipy.stats as st\n",
    "\n",
    "# Import API key\n",
    "from api_keys import weather_api_key\n",
    "\n",
    "# Incorporated citipy to determine city based on latitude and longitude\n",
    "from citipy import citipy\n",
    "\n",
    "# Output File (CSV)\n",
    "output_data_file = \"output_data/cities.csv\"\n",
    "\n",
    "# Range of latitudes and longitudes\n",
    "lat_range = (-90, 90)\n",
    "lng_range = (-180, 180)"
   ]
  },
  {
   "cell_type": "markdown",
   "metadata": {},
   "source": [
    "## Generate Cities List"
   ]
  },
  {
   "cell_type": "code",
   "execution_count": 2,
   "metadata": {},
   "outputs": [
    {
     "data": {
      "text/plain": [
       "616"
      ]
     },
     "execution_count": 2,
     "metadata": {},
     "output_type": "execute_result"
    }
   ],
   "source": [
    "# List for holding lat_lngs and cities\n",
    "lat_lngs = []\n",
    "cities = []\n",
    "\n",
    "# Create a set of random lat and lng combinations\n",
    "lats = np.random.uniform(lat_range[0], lat_range[1], size=1500)\n",
    "lngs = np.random.uniform(lng_range[0], lng_range[1], size=1500)\n",
    "lat_lngs = zip(lats, lngs)\n",
    "\n",
    "# Identify nearest city for each lat, lng combination\n",
    "for lat_lng in lat_lngs:\n",
    "    city = citipy.nearest_city(lat_lng[0], lat_lng[1]).city_name\n",
    "    \n",
    "    # If the city is unique, then add it to a our cities list\n",
    "    if city not in cities:\n",
    "        cities.append(city)\n",
    "\n",
    "# Print the city count to confirm sufficient count\n",
    "len(cities)\n",
    "#cities"
   ]
  },
  {
   "cell_type": "markdown",
   "metadata": {},
   "source": [
    "### Perform API Calls\n",
    "* Perform a weather check on each city using a series of successive API calls.\n",
    "* Include a print log of each city as it'sbeing processed (with the city number and city name).\n"
   ]
  },
  {
   "cell_type": "code",
   "execution_count": 3,
   "metadata": {
    "scrolled": true
   },
   "outputs": [
    {
     "name": "stdout",
     "output_type": "stream",
     "text": [
      "Processing record 1|punta arenas\n",
      "Processing record 2|almaznyy\n",
      "City not found. skipping.\n",
      "Processing record 3|cape town\n",
      "Processing record 4|arraial do cabo\n",
      "Processing record 5|komsomolskiy\n",
      "Processing record 6|butaritari\n",
      "Processing record 7|pevek\n",
      "Processing record 8|mar del plata\n",
      "Processing record 9|hermanus\n",
      "Processing record 10|cherskiy\n",
      "Processing record 11|van\n",
      "Processing record 12|hami\n",
      "Processing record 13|camacha\n",
      "Processing record 14|georgetown\n",
      "Processing record 15|ust-nera\n",
      "Processing record 16|port augusta\n",
      "Processing record 17|xiongzhou\n",
      "Processing record 18|barrow\n",
      "Processing record 19|sorland\n",
      "City not found. skipping.\n",
      "Processing record 20|jinxi\n",
      "Processing record 21|ushuaia\n",
      "Processing record 22|jamestown\n",
      "City not found. skipping.\n",
      "Processing record 23|cayenne\n",
      "City not found. skipping.\n",
      "Processing record 24|coron\n",
      "Processing record 25|mataura\n",
      "Processing record 26|dali\n",
      "Processing record 27|rikitea\n",
      "Processing record 28|longyearbyen\n",
      "City not found. skipping.\n",
      "Processing record 29|neiafu\n",
      "Processing record 30|vaini\n",
      "Processing record 31|tasiilaq\n",
      "Processing record 32|dwarka\n",
      "Processing record 33|hithadhoo\n",
      "Processing record 34|saint-philippe\n",
      "Processing record 35|rawson\n",
      "City not found. skipping.\n",
      "Processing record 36|atuona\n",
      "Processing record 37|dolinsk\n",
      "Processing record 38|leninsk\n",
      "Processing record 39|rocha\n",
      "Processing record 40|mweka\n",
      "Processing record 41|aswan\n",
      "Processing record 42|chuy\n",
      "Processing record 43|new norfolk\n",
      "Processing record 44|ponta do sol\n",
      "Processing record 45|kaitangata\n",
      "Processing record 46|tromso\n",
      "Processing record 47|kavaratti\n",
      "Processing record 48|bongor\n",
      "Processing record 49|puerto ayora\n",
      "Processing record 50|yellowknife\n",
      "Processing record 51|neuquen\n",
      "Processing record 52|sao jose da coroa grande\n",
      "Processing record 53|albany\n",
      "City not found. skipping.\n",
      "Processing record 54|port elizabeth\n",
      "Processing record 55|torbay\n",
      "Processing record 56|orissaare\n",
      "Processing record 57|gizo\n",
      "Processing record 58|gimli\n",
      "City not found. skipping.\n",
      "City not found. skipping.\n",
      "Processing record 59|kapaa\n",
      "Processing record 60|guangyuan\n",
      "Processing record 61|port hardy\n",
      "Processing record 62|vondrozo\n",
      "Processing record 63|plouzane\n",
      "Processing record 64|clyde river\n",
      "Processing record 65|avarua\n",
      "Processing record 66|quang ngai\n",
      "Processing record 67|acarau\n",
      "Processing record 68|salalah\n",
      "Processing record 69|tutoia\n",
      "Processing record 70|busselton\n",
      "Processing record 71|port alfred\n",
      "Processing record 72|gamba\n",
      "Processing record 73|padang\n",
      "City not found. skipping.\n",
      "Processing record 74|kodiak\n",
      "Processing record 75|bluff\n",
      "Processing record 76|alanya\n",
      "Processing record 77|dunedin\n",
      "Processing record 78|los llanos de aridane\n",
      "Processing record 79|vila velha\n",
      "Processing record 80|bethel\n",
      "Processing record 81|dikson\n",
      "Processing record 82|el doncello\n",
      "Processing record 83|key west\n",
      "Processing record 84|tautira\n",
      "Processing record 85|north platte\n",
      "Processing record 86|calabozo\n",
      "Processing record 87|zhuhai\n",
      "Processing record 88|banda aceh\n",
      "Processing record 89|goulburn\n",
      "Processing record 90|bengkulu\n",
      "Processing record 91|paamiut\n",
      "City not found. skipping.\n",
      "City not found. skipping.\n",
      "Processing record 92|opuwo\n",
      "City not found. skipping.\n",
      "Processing record 93|hilo\n",
      "Processing record 94|sri aman\n",
      "Processing record 95|castro\n",
      "City not found. skipping.\n",
      "Processing record 96|salinopolis\n",
      "Processing record 97|puerto maldonado\n",
      "Processing record 98|sitka\n",
      "Processing record 99|airai\n",
      "Processing record 100|mamlyutka\n",
      "Processing record 101|rio grande\n",
      "City not found. skipping.\n",
      "Processing record 102|hobart\n",
      "Processing record 103|nelson bay\n",
      "Processing record 104|cabatuan\n",
      "Processing record 105|isangel\n",
      "Processing record 106|lucera\n",
      "Processing record 107|store heddinge\n",
      "Processing record 108|esperance\n",
      "City not found. skipping.\n",
      "Processing record 109|khandyga\n",
      "Processing record 110|uarini\n",
      "Processing record 111|souillac\n",
      "Processing record 112|tateyama\n",
      "Processing record 113|bredasdorp\n",
      "Processing record 114|gondanglegi\n",
      "Processing record 115|mugumu\n",
      "Processing record 116|springbok\n",
      "Processing record 117|capoterra\n",
      "Processing record 118|baiyin\n",
      "Processing record 119|constitucion\n",
      "Processing record 120|chokurdakh\n",
      "Processing record 121|la serena\n",
      "Processing record 122|ostersund\n",
      "Processing record 123|mount gambier\n",
      "Processing record 124|thompson\n",
      "Processing record 125|fortuna\n",
      "Processing record 126|meulaboh\n",
      "Processing record 127|victoria\n",
      "Processing record 128|vila franca do campo\n",
      "Processing record 129|west plains\n",
      "Processing record 130|baindur\n",
      "Processing record 131|grindavik\n",
      "Processing record 132|roma\n",
      "Processing record 133|guerrero negro\n",
      "Processing record 134|lasa\n",
      "Processing record 135|inhambane\n",
      "Processing record 136|buala\n",
      "Processing record 137|tuktoyaktuk\n",
      "Processing record 138|carnarvon\n",
      "Processing record 139|launceston\n",
      "Processing record 140|westport\n",
      "Processing record 141|ribeira grande\n",
      "Processing record 142|tiksi\n",
      "Processing record 143|nueva guinea\n",
      "Processing record 144|ulaanbaatar\n",
      "City not found. skipping.\n",
      "Processing record 145|maarianhamina\n",
      "Processing record 146|tiznit\n",
      "Processing record 147|poum\n",
      "Processing record 148|nouadhibou\n",
      "Processing record 149|kokstad\n",
      "Processing record 150|sembe\n",
      "Processing record 151|gucheng\n",
      "Processing record 152|khatanga\n",
      "Processing record 153|sita road\n",
      "Processing record 154|dzhebariki-khaya\n",
      "Processing record 155|mount isa\n",
      "Processing record 156|tselinnoye\n",
      "Processing record 157|halifax\n",
      "Processing record 158|hasaki\n",
      "Processing record 159|bilma\n",
      "Processing record 160|aromashevo\n",
      "Processing record 161|goderich\n",
      "Processing record 162|alingsas\n",
      "Processing record 163|bathsheba\n",
      "Processing record 164|meadow lake\n",
      "Processing record 165|samokov\n",
      "Processing record 166|bien hoa\n",
      "Processing record 167|songea\n",
      "Processing record 168|la ronge\n",
      "Processing record 169|ayagoz\n",
      "Processing record 170|petropavlovsk-kamchatskiy\n",
      "Processing record 171|mahebourg\n",
      "Processing record 172|kloulklubed\n",
      "Processing record 173|beihai\n",
      "Processing record 174|cidreira\n",
      "Processing record 175|nemuro\n",
      "Processing record 176|half moon bay\n",
      "Processing record 177|yulara\n",
      "Processing record 178|hofn\n",
      "Processing record 179|chebenki\n",
      "Processing record 180|flinders\n",
      "Processing record 181|katsuura\n",
      "City not found. skipping.\n",
      "City not found. skipping.\n",
      "Processing record 182|manicore\n",
      "Processing record 183|xinxiang\n",
      "Processing record 184|upernavik\n",
      "Processing record 185|lagoa\n",
      "City not found. skipping.\n",
      "Processing record 186|narsaq\n",
      "Processing record 187|cabedelo\n",
      "Processing record 188|shelburne\n",
      "Processing record 189|felanitx\n",
      "Processing record 190|nantucket\n",
      "Processing record 191|batagay-alyta\n",
      "City not found. skipping.\n",
      "Processing record 192|ambilobe\n",
      "Processing record 193|hambantota\n",
      "Processing record 194|shache\n",
      "Processing record 195|olafsvik\n",
      "Processing record 196|tuatapere\n",
      "City not found. skipping.\n",
      "City not found. skipping.\n",
      "Processing record 197|asfi\n",
      "Processing record 198|tortoli\n",
      "Processing record 199|homer\n",
      "Processing record 200|cap malheureux\n",
      "Processing record 201|grand gaube\n",
      "Processing record 202|puerto carreno\n",
      "Processing record 203|srednekolymsk\n",
      "Processing record 204|southbridge\n",
      "Processing record 205|nikolskoye\n",
      "Processing record 206|cabo san lucas\n",
      "Processing record 207|sao filipe\n",
      "Processing record 208|codrington\n",
      "Processing record 209|sabang\n",
      "Processing record 210|santo antonio do taua\n",
      "Processing record 211|muroran\n",
      "Processing record 212|abnub\n",
      "Processing record 213|norman wells\n",
      "Processing record 214|omboue\n",
      "Processing record 215|caiaponia\n",
      "Processing record 216|harper\n",
      "Processing record 217|san buenaventura\n",
      "Processing record 218|qaanaaq\n",
      "Processing record 219|adrar\n",
      "Processing record 220|aykhal\n",
      "Processing record 221|cheney\n",
      "Processing record 222|serenje\n",
      "Processing record 223|alice springs\n",
      "Processing record 224|huanuni\n",
      "Processing record 225|villamontes\n",
      "Processing record 226|camocim\n",
      "Processing record 227|karratha\n",
      "Processing record 228|savannah bight\n",
      "Processing record 229|vostok\n",
      "City not found. skipping.\n",
      "Processing record 230|luderitz\n",
      "Processing record 231|belaya gora\n",
      "Processing record 232|namibe\n",
      "Processing record 233|esil\n",
      "Processing record 234|ilulissat\n",
      "City not found. skipping.\n",
      "Processing record 235|viedma\n",
      "Processing record 236|klaksvik\n",
      "Processing record 237|atambua\n",
      "Processing record 238|faanui\n",
      "Processing record 239|oranjemund\n",
      "Processing record 240|sisimiut\n",
      "Processing record 241|yerbogachen\n",
      "Processing record 242|saint-andre-les-vergers\n",
      "Processing record 243|kahului\n",
      "Processing record 244|lompoc\n"
     ]
    },
    {
     "name": "stdout",
     "output_type": "stream",
     "text": [
      "Processing record 245|kaeo\n",
      "Processing record 246|beyla\n",
      "Processing record 247|saskylakh\n",
      "Processing record 248|pemba\n",
      "Processing record 249|dutse\n",
      "Processing record 250|mulatupo\n",
      "Processing record 251|katobu\n",
      "Processing record 252|moose factory\n",
      "Processing record 253|makakilo city\n",
      "Processing record 254|kavieng\n",
      "Processing record 255|kruisfontein\n",
      "Processing record 256|acapulco\n",
      "City not found. skipping.\n",
      "Processing record 257|verkhnyaya inta\n",
      "Processing record 258|vangaindrano\n",
      "Processing record 259|inuvik\n",
      "Processing record 260|bull savanna\n",
      "Processing record 261|vestmannaeyjar\n",
      "Processing record 262|muravlenko\n",
      "Processing record 263|coacoatzintla\n",
      "Processing record 264|quzhou\n",
      "City not found. skipping.\n",
      "Processing record 265|tevaitoa\n",
      "Processing record 266|henties bay\n",
      "Processing record 267|bakchar\n",
      "Processing record 268|lebu\n",
      "Processing record 269|dzerzhinskoye\n",
      "City not found. skipping.\n",
      "Processing record 270|quatre cocos\n",
      "City not found. skipping.\n",
      "Processing record 271|nador\n",
      "Processing record 272|dingle\n",
      "Processing record 273|awjilah\n",
      "Processing record 274|iaciara\n",
      "Processing record 275|port hawkesbury\n",
      "Processing record 276|barcelos\n",
      "Processing record 277|pran buri\n",
      "Processing record 278|morro bay\n",
      "Processing record 279|slyudyanka\n",
      "Processing record 280|schijndel\n",
      "Processing record 281|port lincoln\n",
      "Processing record 282|anyksciai\n",
      "Processing record 283|bambous virieux\n",
      "Processing record 284|saint anthony\n",
      "Processing record 285|konya\n",
      "Processing record 286|burgos\n",
      "City not found. skipping.\n",
      "Processing record 287|kanker\n",
      "Processing record 288|lokosovo\n",
      "Processing record 289|iracoubo\n",
      "Processing record 290|manacapuru\n",
      "Processing record 291|ribeirao preto\n",
      "Processing record 292|port dickson\n",
      "Processing record 293|san policarpo\n",
      "City not found. skipping.\n",
      "Processing record 294|hamilton\n",
      "Processing record 295|havoysund\n",
      "Processing record 296|saldanha\n",
      "Processing record 297|pacific grove\n",
      "Processing record 298|mitsamiouli\n",
      "Processing record 299|iqaluit\n",
      "Processing record 300|honningsvag\n",
      "Processing record 301|presidencia roque saenz pena\n",
      "Processing record 302|touros\n",
      "Processing record 303|togur\n",
      "City not found. skipping.\n",
      "Processing record 304|east london\n",
      "City not found. skipping.\n",
      "Processing record 305|puerto del rosario\n",
      "Processing record 306|nienburg\n",
      "Processing record 307|bagdarin\n",
      "Processing record 308|comodoro rivadavia\n",
      "Processing record 309|valley\n",
      "Processing record 310|excelsior springs\n",
      "Processing record 311|velyka oleksandrivka\n",
      "City not found. skipping.\n",
      "Processing record 312|ratnagiri\n",
      "Processing record 313|brownsville\n",
      "Processing record 314|safford\n",
      "Processing record 315|aljezur\n",
      "Processing record 316|altay\n",
      "Processing record 317|whitianga\n",
      "Processing record 318|egvekinot\n",
      "Processing record 319|hervey bay\n",
      "Processing record 320|sur\n",
      "Processing record 321|russell\n",
      "Processing record 322|ofunato\n",
      "Processing record 323|zhangjiakou\n",
      "Processing record 324|virginia beach\n",
      "Processing record 325|kalmunai\n",
      "Processing record 326|shellbrook\n",
      "Processing record 327|tessalit\n",
      "Processing record 328|solginskiy\n",
      "Processing record 329|yevlax\n",
      "Processing record 330|cayambe\n",
      "Processing record 331|angoche\n",
      "Processing record 332|yelizovo\n",
      "Processing record 333|khash\n",
      "Processing record 334|whitehorse\n",
      "Processing record 335|kieta\n",
      "Processing record 336|soyo\n",
      "Processing record 337|boda\n",
      "Processing record 338|lata\n",
      "Processing record 339|noyon\n",
      "Processing record 340|cartagena del chaira\n",
      "Processing record 341|teya\n",
      "Processing record 342|yar-sale\n",
      "Processing record 343|aksarka\n",
      "Processing record 344|chiredzi\n",
      "Processing record 345|imbituba\n",
      "Processing record 346|jurm\n",
      "Processing record 347|kenai\n",
      "Processing record 348|rio gallegos\n",
      "Processing record 349|aden\n",
      "City not found. skipping.\n",
      "Processing record 350|coquimbo\n",
      "Processing record 351|troitskoye\n",
      "Processing record 352|belmonte\n",
      "Processing record 353|esplanada\n",
      "Processing record 354|jacksonville\n",
      "City not found. skipping.\n",
      "Processing record 355|gawler\n",
      "Processing record 356|tura\n",
      "City not found. skipping.\n",
      "Processing record 357|morlaix\n",
      "Processing record 358|natal\n",
      "Processing record 359|grand baie\n",
      "Processing record 360|noumea\n",
      "Processing record 361|ancud\n",
      "City not found. skipping.\n",
      "Processing record 362|geraldton\n",
      "Processing record 363|el alto\n",
      "Processing record 364|nangong\n",
      "Processing record 365|portland\n",
      "Processing record 366|orange\n",
      "Processing record 367|lagos\n",
      "Processing record 368|ust-barguzin\n",
      "Processing record 369|otofuke\n",
      "Processing record 370|nanlong\n",
      "City not found. skipping.\n",
      "Processing record 371|ballina\n",
      "Processing record 372|jeremie\n",
      "Processing record 373|chifeng\n",
      "Processing record 374|yaroslavskiy\n",
      "Processing record 375|wahiawa\n",
      "Processing record 376|sokna\n",
      "Processing record 377|svetlogorsk\n",
      "Processing record 378|zhigansk\n",
      "Processing record 379|mezen\n",
      "Processing record 380|batemans bay\n",
      "Processing record 381|muros\n",
      "Processing record 382|carupano\n",
      "Processing record 383|quelimane\n",
      "Processing record 384|mchinji\n",
      "Processing record 385|krasnovishersk\n",
      "Processing record 386|byron bay\n",
      "Processing record 387|ahipara\n",
      "Processing record 388|chengde\n",
      "Processing record 389|zaragoza\n",
      "Processing record 390|bafq\n",
      "Processing record 391|poronaysk\n",
      "Processing record 392|oyama\n",
      "Processing record 393|lufilufi\n",
      "Processing record 394|severo-yeniseyskiy\n",
      "Processing record 395|garissa\n",
      "Processing record 396|avera\n",
      "Processing record 397|verkhnevilyuysk\n",
      "Processing record 398|zenzeli\n",
      "Processing record 399|tacna\n",
      "Processing record 400|akyab\n",
      "Processing record 401|severo-kurilsk\n",
      "Processing record 402|rupert\n",
      "Processing record 403|ponta delgada\n",
      "Processing record 404|berlevag\n",
      "Processing record 405|marawi\n",
      "City not found. skipping.\n",
      "Processing record 406|porto novo\n",
      "Processing record 407|nayagarh\n",
      "City not found. skipping.\n",
      "Processing record 408|wilmington island\n",
      "Processing record 409|marathon\n",
      "Processing record 410|kherson\n",
      "Processing record 411|zabaykalsk\n",
      "Processing record 412|trat\n",
      "Processing record 413|kawit\n",
      "Processing record 414|ostrovnoy\n",
      "Processing record 415|hearst\n",
      "Processing record 416|mega\n",
      "Processing record 417|accrington\n",
      "Processing record 418|pisco\n",
      "Processing record 419|bairiki\n",
      "Processing record 420|vallenar\n",
      "Processing record 421|krasnoselkup\n",
      "Processing record 422|iquitos\n",
      "Processing record 423|manokwari\n",
      "Processing record 424|takestan\n",
      "Processing record 425|raahe\n",
      "Processing record 426|san vicente\n",
      "Processing record 427|maputo\n",
      "Processing record 428|taltal\n",
      "Processing record 429|port shepstone\n",
      "Processing record 430|luwuk\n",
      "Processing record 431|balabac\n",
      "Processing record 432|harrismith\n",
      "Processing record 433|jalu\n",
      "Processing record 434|saint george\n",
      "Processing record 435|eydhafushi\n",
      "Processing record 436|bardiyah\n",
      "Processing record 437|gay\n",
      "Processing record 438|west wendover\n",
      "Processing record 439|darnah\n",
      "Processing record 440|hendek\n",
      "Processing record 441|takoradi\n",
      "Processing record 442|chinhoyi\n",
      "Processing record 443|villa carlos paz\n",
      "Processing record 444|west fargo\n",
      "Processing record 445|kitui\n",
      "Processing record 446|jiuquan\n",
      "Processing record 447|te anau\n",
      "Processing record 448|kailua\n",
      "Processing record 449|lagodekhi\n",
      "Processing record 450|kovur\n",
      "City not found. skipping.\n",
      "Processing record 451|pemangkat\n",
      "Processing record 452|madimba\n",
      "Processing record 453|bourail\n",
      "Processing record 454|anori\n",
      "Processing record 455|buta\n",
      "Processing record 456|port moresby\n",
      "Processing record 457|ust-tsilma\n",
      "Processing record 458|zhicheng\n",
      "Processing record 459|puerto ayacucho\n",
      "Processing record 460|lavrentiya\n",
      "Processing record 461|tongliao\n",
      "Processing record 462|svetlaya\n",
      "Processing record 463|bodmin\n",
      "Processing record 464|cozumel\n",
      "Processing record 465|xingyi\n",
      "Processing record 466|udachnyy\n",
      "City not found. skipping.\n",
      "Processing record 467|kiama\n",
      "Processing record 468|san angelo\n",
      "Processing record 469|lewisporte\n",
      "Processing record 470|velasco ibarra\n",
      "Processing record 471|iralaya\n",
      "Processing record 472|talcahuano\n",
      "Processing record 473|yara\n",
      "Processing record 474|hobyo\n",
      "Processing record 475|yantal\n",
      "Processing record 476|tarata\n",
      "Processing record 477|san jeronimo\n",
      "Processing record 478|dinanagar\n",
      "Processing record 479|cartagena\n",
      "Processing record 480|lichinga\n",
      "Processing record 481|sinnamary\n",
      "Processing record 482|north bend\n",
      "Processing record 483|berezovyy\n",
      "Processing record 484|saint-francois\n",
      "Processing record 485|santa maria da boa vista\n",
      "City not found. skipping.\n",
      "Processing record 486|tazovskiy\n",
      "Processing record 487|la rioja\n",
      "Processing record 488|daru\n",
      "Processing record 489|tatawin\n"
     ]
    },
    {
     "name": "stdout",
     "output_type": "stream",
     "text": [
      "Processing record 490|xichang\n",
      "Processing record 491|nanortalik\n",
      "Processing record 492|kourou\n",
      "Processing record 493|jasidih\n",
      "Processing record 494|coos bay\n",
      "Processing record 495|umea\n",
      "Processing record 496|provideniya\n",
      "Processing record 497|kampot\n",
      "Processing record 498|albion\n",
      "Processing record 499|yarensk\n",
      "Processing record 500|broken hill\n",
      "Processing record 501|abha\n",
      "Processing record 502|atikokan\n",
      "Processing record 503|yilan\n",
      "Processing record 504|sao luis de montes belos\n",
      "City not found. skipping.\n",
      "Processing record 505|solnechnyy\n",
      "Processing record 506|nalut\n",
      "Processing record 507|mao\n",
      "Processing record 508|arauca\n",
      "Processing record 509|skibbereen\n",
      "Processing record 510|hovd\n",
      "Processing record 511|slave lake\n",
      "Processing record 512|sibolga\n",
      "Processing record 513|gazanjyk\n",
      "Processing record 514|kupang\n",
      "Processing record 515|bubaque\n",
      "City not found. skipping.\n",
      "Processing record 516|raudeberg\n",
      "Processing record 517|hualmay\n",
      "City not found. skipping.\n",
      "Processing record 518|paka\n",
      "City not found. skipping.\n",
      "Processing record 519|varkaus\n",
      "Processing record 520|fairbanks\n",
      "City not found. skipping.\n",
      "Processing record 521|haldensleben\n",
      "Processing record 522|lorengau\n",
      "Processing record 523|kimbe\n",
      "Processing record 524|nizwa\n",
      "City not found. skipping.\n",
      "Processing record 525|ishigaki\n",
      "Processing record 526|kitimat\n",
      "Processing record 527|shimoda\n",
      "Processing record 528|ugoofaaru\n",
      "Processing record 529|kumba\n",
      "Processing record 530|lac du bonnet\n",
      "Processing record 531|loksa\n",
      "Processing record 532|erenhot\n",
      "Processing record 533|bud\n",
      "City not found. skipping.\n",
      "City not found. skipping.\n",
      "Processing record 534|zemio\n",
      "Processing record 535|coruripe\n",
      "Processing record 536|dongsheng\n",
      "Processing record 537|ambositra\n",
      "Processing record 538|mehamn\n",
      "Processing record 539|kemijarvi\n",
      "Processing record 540|glenwood springs\n",
      "Processing record 541|ko samui\n",
      "Processing record 542|burevestnik\n",
      "Processing record 543|sal rei\n",
      "Processing record 544|pandan\n",
      "Processing record 545|deniliquin\n",
      "Processing record 546|leshukonskoye\n",
      "Processing record 547|soyung\n",
      "Processing record 548|labuhan\n",
      "Processing record 549|gobabis\n",
      "Processing record 550|dodge city\n",
      "Processing record 551|havre-saint-pierre\n",
      "Processing record 552|sarangani\n",
      "Processing record 553|vanimo\n",
      "Processing record 554|diego de almagro\n",
      "Processing record 555|kathu\n",
      "Processing record 556|walvis bay\n",
      "Processing record 557|necochea\n",
      "City not found. skipping.\n",
      "Processing record 558|beringovskiy\n",
      "Processing record 559|asau\n",
      "Processing record 560|brigantine\n",
      "Processing record 561|sibu\n",
      "Processing record 562|sola\n",
      "Processing record 563|orje\n"
     ]
    }
   ],
   "source": [
    "# Perform a weather check on each city using a series of successive API calls.\n",
    "# Include a print log of each city as it's being processed (with the city number and city name).\n",
    "\n",
    "url = \"http://api.openweathermap.org/data/2.5/weather?units=Imperial&\"\n",
    "\n",
    "#Define empty lists to store values\n",
    "cloudiness = []\n",
    "country = []\n",
    "date = []\n",
    "max_temp = []\n",
    "humidity = []\n",
    "lat = []\n",
    "lng = []\n",
    "wind_speed = []\n",
    "city_name = []\n",
    "\n",
    "#Looping through cities to make api calls using city as query\n",
    "i = 1\n",
    "for city in cities:\n",
    "    city=city\n",
    "    query_url = url + \"appid=\" + weather_api_key + \"&q=\" + city\n",
    "    response = requests.get(query_url).json()\n",
    "    \n",
    "#Extracting data. Missing data is handled by try and except  \n",
    "    try:\n",
    "        \n",
    "        cloudiness.append(response[\"clouds\"][\"all\"])\n",
    "        country.append(response[\"sys\"][\"country\"])\n",
    "        date.append(response[\"dt\"])\n",
    "        max_temp.append(response[\"main\"]['temp_max'])\n",
    "        humidity.append(response[\"main\"]['humidity'])\n",
    "        lat.append(response[\"coord\"][\"lat\"])  \n",
    "        lng.append(response[\"coord\"][\"lon\"])\n",
    "        wind_speed.append(response[\"wind\"][\"speed\"])\n",
    "        city_name.append(response[\"name\"])\n",
    "        print(f\"Processing record {i}|{city}\")\n",
    "        i+=1\n",
    "    except (KeyError):\n",
    "        print(\"City not found. skipping.\")\n",
    "\n"
   ]
  },
  {
   "cell_type": "markdown",
   "metadata": {},
   "source": [
    "### Convert Raw Data to DataFrame\n",
    "* Export the city data into a .csv.\n",
    "* Display the DataFrame"
   ]
  },
  {
   "cell_type": "code",
   "execution_count": 4,
   "metadata": {},
   "outputs": [
    {
     "data": {
      "text/html": [
       "<div>\n",
       "<style scoped>\n",
       "    .dataframe tbody tr th:only-of-type {\n",
       "        vertical-align: middle;\n",
       "    }\n",
       "\n",
       "    .dataframe tbody tr th {\n",
       "        vertical-align: top;\n",
       "    }\n",
       "\n",
       "    .dataframe thead th {\n",
       "        text-align: right;\n",
       "    }\n",
       "</style>\n",
       "<table border=\"1\" class=\"dataframe\">\n",
       "  <thead>\n",
       "    <tr style=\"text-align: right;\">\n",
       "      <th></th>\n",
       "      <th>City Name</th>\n",
       "      <th>Country</th>\n",
       "      <th>Cloudiness</th>\n",
       "      <th>Max Temp</th>\n",
       "      <th>Wind Speed</th>\n",
       "      <th>Humidity</th>\n",
       "      <th>Lat</th>\n",
       "      <th>Lng</th>\n",
       "    </tr>\n",
       "    <tr>\n",
       "      <th>City ID</th>\n",
       "      <th></th>\n",
       "      <th></th>\n",
       "      <th></th>\n",
       "      <th></th>\n",
       "      <th></th>\n",
       "      <th></th>\n",
       "      <th></th>\n",
       "      <th></th>\n",
       "    </tr>\n",
       "  </thead>\n",
       "  <tbody>\n",
       "    <tr>\n",
       "      <th>0</th>\n",
       "      <td>Punta Arenas</td>\n",
       "      <td>CL</td>\n",
       "      <td>90</td>\n",
       "      <td>57.20</td>\n",
       "      <td>21.85</td>\n",
       "      <td>51</td>\n",
       "      <td>-53.1500</td>\n",
       "      <td>-70.9167</td>\n",
       "    </tr>\n",
       "    <tr>\n",
       "      <th>1</th>\n",
       "      <td>Almaznyy</td>\n",
       "      <td>RU</td>\n",
       "      <td>75</td>\n",
       "      <td>23.00</td>\n",
       "      <td>20.13</td>\n",
       "      <td>74</td>\n",
       "      <td>48.0448</td>\n",
       "      <td>40.0450</td>\n",
       "    </tr>\n",
       "    <tr>\n",
       "      <th>2</th>\n",
       "      <td>Cape Town</td>\n",
       "      <td>ZA</td>\n",
       "      <td>0</td>\n",
       "      <td>72.00</td>\n",
       "      <td>9.22</td>\n",
       "      <td>88</td>\n",
       "      <td>-33.9258</td>\n",
       "      <td>18.4232</td>\n",
       "    </tr>\n",
       "    <tr>\n",
       "      <th>3</th>\n",
       "      <td>Arraial do Cabo</td>\n",
       "      <td>BR</td>\n",
       "      <td>100</td>\n",
       "      <td>76.51</td>\n",
       "      <td>15.68</td>\n",
       "      <td>88</td>\n",
       "      <td>-22.9661</td>\n",
       "      <td>-42.0278</td>\n",
       "    </tr>\n",
       "    <tr>\n",
       "      <th>4</th>\n",
       "      <td>Yangi Marg`ilon</td>\n",
       "      <td>UZ</td>\n",
       "      <td>100</td>\n",
       "      <td>42.80</td>\n",
       "      <td>4.61</td>\n",
       "      <td>61</td>\n",
       "      <td>40.4272</td>\n",
       "      <td>71.7189</td>\n",
       "    </tr>\n",
       "  </tbody>\n",
       "</table>\n",
       "</div>"
      ],
      "text/plain": [
       "               City Name Country  Cloudiness  Max Temp  Wind Speed  Humidity  \\\n",
       "City ID                                                                        \n",
       "0           Punta Arenas      CL          90     57.20       21.85        51   \n",
       "1               Almaznyy      RU          75     23.00       20.13        74   \n",
       "2              Cape Town      ZA           0     72.00        9.22        88   \n",
       "3        Arraial do Cabo      BR         100     76.51       15.68        88   \n",
       "4        Yangi Marg`ilon      UZ         100     42.80        4.61        61   \n",
       "\n",
       "             Lat      Lng  \n",
       "City ID                    \n",
       "0       -53.1500 -70.9167  \n",
       "1        48.0448  40.0450  \n",
       "2       -33.9258  18.4232  \n",
       "3       -22.9661 -42.0278  \n",
       "4        40.4272  71.7189  "
      ]
     },
     "execution_count": 4,
     "metadata": {},
     "output_type": "execute_result"
    }
   ],
   "source": [
    "# Display the DataFrame\n",
    "city_dataframe = pd.DataFrame({\n",
    "                                \"City Name\": city_name,\n",
    "                                \"Country\": country,\n",
    "                                \"Cloudiness\": cloudiness, \n",
    "                                \"Max Temp\": max_temp, \n",
    "                                \"Wind Speed\": wind_speed,\n",
    "                                \"Humidity\": humidity,\n",
    "                                \"Lat\": lat, \n",
    "                                \"Lng\": lng,\n",
    "                               })\n",
    "\n",
    "city_dataframe = city_dataframe.rename_axis(\"City ID\")\n",
    "city_dataframe.head()"
   ]
  },
  {
   "cell_type": "code",
   "execution_count": 5,
   "metadata": {},
   "outputs": [],
   "source": [
    "# Export the city data into a .csv.\n",
    "city_dataframe.to_csv(\"city_dataframe.csv\")\n",
    "    \n",
    "#updated csv to match re-run block "
   ]
  },
  {
   "cell_type": "markdown",
   "metadata": {},
   "source": [
    "## Inspect the data and remove the cities where the humidity > 100%.\n",
    "----\n",
    "Skip this step if there are no cities that have humidity > 100%. "
   ]
  },
  {
   "cell_type": "code",
   "execution_count": 6,
   "metadata": {},
   "outputs": [
    {
     "data": {
      "text/html": [
       "<div>\n",
       "<style scoped>\n",
       "    .dataframe tbody tr th:only-of-type {\n",
       "        vertical-align: middle;\n",
       "    }\n",
       "\n",
       "    .dataframe tbody tr th {\n",
       "        vertical-align: top;\n",
       "    }\n",
       "\n",
       "    .dataframe thead th {\n",
       "        text-align: right;\n",
       "    }\n",
       "</style>\n",
       "<table border=\"1\" class=\"dataframe\">\n",
       "  <thead>\n",
       "    <tr style=\"text-align: right;\">\n",
       "      <th></th>\n",
       "      <th>City ID</th>\n",
       "      <th>City Name</th>\n",
       "      <th>Country</th>\n",
       "      <th>Cloudiness</th>\n",
       "      <th>Max Temp</th>\n",
       "      <th>Wind Speed</th>\n",
       "      <th>Humidity</th>\n",
       "      <th>Lat</th>\n",
       "      <th>Lng</th>\n",
       "    </tr>\n",
       "  </thead>\n",
       "  <tbody>\n",
       "    <tr>\n",
       "      <th>0</th>\n",
       "      <td>0</td>\n",
       "      <td>Punta Arenas</td>\n",
       "      <td>CL</td>\n",
       "      <td>90</td>\n",
       "      <td>57.20</td>\n",
       "      <td>21.85</td>\n",
       "      <td>51</td>\n",
       "      <td>-53.1500</td>\n",
       "      <td>-70.9167</td>\n",
       "    </tr>\n",
       "    <tr>\n",
       "      <th>1</th>\n",
       "      <td>1</td>\n",
       "      <td>Almaznyy</td>\n",
       "      <td>RU</td>\n",
       "      <td>75</td>\n",
       "      <td>23.00</td>\n",
       "      <td>20.13</td>\n",
       "      <td>74</td>\n",
       "      <td>48.0448</td>\n",
       "      <td>40.0450</td>\n",
       "    </tr>\n",
       "    <tr>\n",
       "      <th>2</th>\n",
       "      <td>2</td>\n",
       "      <td>Cape Town</td>\n",
       "      <td>ZA</td>\n",
       "      <td>0</td>\n",
       "      <td>72.00</td>\n",
       "      <td>9.22</td>\n",
       "      <td>88</td>\n",
       "      <td>-33.9258</td>\n",
       "      <td>18.4232</td>\n",
       "    </tr>\n",
       "    <tr>\n",
       "      <th>3</th>\n",
       "      <td>3</td>\n",
       "      <td>Arraial do Cabo</td>\n",
       "      <td>BR</td>\n",
       "      <td>100</td>\n",
       "      <td>76.51</td>\n",
       "      <td>15.68</td>\n",
       "      <td>88</td>\n",
       "      <td>-22.9661</td>\n",
       "      <td>-42.0278</td>\n",
       "    </tr>\n",
       "    <tr>\n",
       "      <th>4</th>\n",
       "      <td>4</td>\n",
       "      <td>Yangi Marg`ilon</td>\n",
       "      <td>UZ</td>\n",
       "      <td>100</td>\n",
       "      <td>42.80</td>\n",
       "      <td>4.61</td>\n",
       "      <td>61</td>\n",
       "      <td>40.4272</td>\n",
       "      <td>71.7189</td>\n",
       "    </tr>\n",
       "    <tr>\n",
       "      <th>...</th>\n",
       "      <td>...</td>\n",
       "      <td>...</td>\n",
       "      <td>...</td>\n",
       "      <td>...</td>\n",
       "      <td>...</td>\n",
       "      <td>...</td>\n",
       "      <td>...</td>\n",
       "      <td>...</td>\n",
       "      <td>...</td>\n",
       "    </tr>\n",
       "    <tr>\n",
       "      <th>558</th>\n",
       "      <td>558</td>\n",
       "      <td>Asău</td>\n",
       "      <td>RO</td>\n",
       "      <td>7</td>\n",
       "      <td>17.01</td>\n",
       "      <td>7.74</td>\n",
       "      <td>44</td>\n",
       "      <td>46.4333</td>\n",
       "      <td>26.4000</td>\n",
       "    </tr>\n",
       "    <tr>\n",
       "      <th>559</th>\n",
       "      <td>559</td>\n",
       "      <td>Brigantine</td>\n",
       "      <td>US</td>\n",
       "      <td>90</td>\n",
       "      <td>28.99</td>\n",
       "      <td>5.75</td>\n",
       "      <td>64</td>\n",
       "      <td>39.4101</td>\n",
       "      <td>-74.3646</td>\n",
       "    </tr>\n",
       "    <tr>\n",
       "      <th>560</th>\n",
       "      <td>560</td>\n",
       "      <td>Sibu</td>\n",
       "      <td>MY</td>\n",
       "      <td>40</td>\n",
       "      <td>75.20</td>\n",
       "      <td>1.14</td>\n",
       "      <td>100</td>\n",
       "      <td>2.3000</td>\n",
       "      <td>111.8167</td>\n",
       "    </tr>\n",
       "    <tr>\n",
       "      <th>561</th>\n",
       "      <td>561</td>\n",
       "      <td>Sola</td>\n",
       "      <td>VU</td>\n",
       "      <td>75</td>\n",
       "      <td>89.60</td>\n",
       "      <td>12.30</td>\n",
       "      <td>70</td>\n",
       "      <td>-13.8833</td>\n",
       "      <td>167.5500</td>\n",
       "    </tr>\n",
       "    <tr>\n",
       "      <th>562</th>\n",
       "      <td>562</td>\n",
       "      <td>Ørje</td>\n",
       "      <td>NO</td>\n",
       "      <td>0</td>\n",
       "      <td>12.00</td>\n",
       "      <td>1.01</td>\n",
       "      <td>81</td>\n",
       "      <td>59.4802</td>\n",
       "      <td>11.6602</td>\n",
       "    </tr>\n",
       "  </tbody>\n",
       "</table>\n",
       "<p>563 rows × 9 columns</p>\n",
       "</div>"
      ],
      "text/plain": [
       "     City ID        City Name Country  Cloudiness  Max Temp  Wind Speed  \\\n",
       "0          0     Punta Arenas      CL          90     57.20       21.85   \n",
       "1          1         Almaznyy      RU          75     23.00       20.13   \n",
       "2          2        Cape Town      ZA           0     72.00        9.22   \n",
       "3          3  Arraial do Cabo      BR         100     76.51       15.68   \n",
       "4          4  Yangi Marg`ilon      UZ         100     42.80        4.61   \n",
       "..       ...              ...     ...         ...       ...         ...   \n",
       "558      558             Asău      RO           7     17.01        7.74   \n",
       "559      559       Brigantine      US          90     28.99        5.75   \n",
       "560      560             Sibu      MY          40     75.20        1.14   \n",
       "561      561             Sola      VU          75     89.60       12.30   \n",
       "562      562             Ørje      NO           0     12.00        1.01   \n",
       "\n",
       "     Humidity      Lat       Lng  \n",
       "0          51 -53.1500  -70.9167  \n",
       "1          74  48.0448   40.0450  \n",
       "2          88 -33.9258   18.4232  \n",
       "3          88 -22.9661  -42.0278  \n",
       "4          61  40.4272   71.7189  \n",
       "..        ...      ...       ...  \n",
       "558        44  46.4333   26.4000  \n",
       "559        64  39.4101  -74.3646  \n",
       "560       100   2.3000  111.8167  \n",
       "561        70 -13.8833  167.5500  \n",
       "562        81  59.4802   11.6602  \n",
       "\n",
       "[563 rows x 9 columns]"
      ]
     },
     "execution_count": 6,
     "metadata": {},
     "output_type": "execute_result"
    }
   ],
   "source": [
    "city_dataframe = pd.read_csv(\"city_dataframe.csv\")\n",
    "city_dataframe\n",
    "\n",
    "# reviewed with tutor as original code was not calling the correct data frame"
   ]
  },
  {
   "cell_type": "code",
   "execution_count": 7,
   "metadata": {},
   "outputs": [
    {
     "data": {
      "text/html": [
       "<div>\n",
       "<style scoped>\n",
       "    .dataframe tbody tr th:only-of-type {\n",
       "        vertical-align: middle;\n",
       "    }\n",
       "\n",
       "    .dataframe tbody tr th {\n",
       "        vertical-align: top;\n",
       "    }\n",
       "\n",
       "    .dataframe thead th {\n",
       "        text-align: right;\n",
       "    }\n",
       "</style>\n",
       "<table border=\"1\" class=\"dataframe\">\n",
       "  <thead>\n",
       "    <tr style=\"text-align: right;\">\n",
       "      <th></th>\n",
       "      <th>City ID</th>\n",
       "      <th>City Name</th>\n",
       "      <th>Country</th>\n",
       "      <th>Cloudiness</th>\n",
       "      <th>Max Temp</th>\n",
       "      <th>Wind Speed</th>\n",
       "      <th>Humidity</th>\n",
       "      <th>Lat</th>\n",
       "      <th>Lng</th>\n",
       "    </tr>\n",
       "  </thead>\n",
       "  <tbody>\n",
       "    <tr>\n",
       "      <th>0</th>\n",
       "      <td>0</td>\n",
       "      <td>Punta Arenas</td>\n",
       "      <td>CL</td>\n",
       "      <td>90</td>\n",
       "      <td>57.20</td>\n",
       "      <td>21.85</td>\n",
       "      <td>51</td>\n",
       "      <td>-53.1500</td>\n",
       "      <td>-70.9167</td>\n",
       "    </tr>\n",
       "    <tr>\n",
       "      <th>1</th>\n",
       "      <td>1</td>\n",
       "      <td>Almaznyy</td>\n",
       "      <td>RU</td>\n",
       "      <td>75</td>\n",
       "      <td>23.00</td>\n",
       "      <td>20.13</td>\n",
       "      <td>74</td>\n",
       "      <td>48.0448</td>\n",
       "      <td>40.0450</td>\n",
       "    </tr>\n",
       "    <tr>\n",
       "      <th>2</th>\n",
       "      <td>2</td>\n",
       "      <td>Cape Town</td>\n",
       "      <td>ZA</td>\n",
       "      <td>0</td>\n",
       "      <td>72.00</td>\n",
       "      <td>9.22</td>\n",
       "      <td>88</td>\n",
       "      <td>-33.9258</td>\n",
       "      <td>18.4232</td>\n",
       "    </tr>\n",
       "    <tr>\n",
       "      <th>3</th>\n",
       "      <td>3</td>\n",
       "      <td>Arraial do Cabo</td>\n",
       "      <td>BR</td>\n",
       "      <td>100</td>\n",
       "      <td>76.51</td>\n",
       "      <td>15.68</td>\n",
       "      <td>88</td>\n",
       "      <td>-22.9661</td>\n",
       "      <td>-42.0278</td>\n",
       "    </tr>\n",
       "    <tr>\n",
       "      <th>4</th>\n",
       "      <td>4</td>\n",
       "      <td>Yangi Marg`ilon</td>\n",
       "      <td>UZ</td>\n",
       "      <td>100</td>\n",
       "      <td>42.80</td>\n",
       "      <td>4.61</td>\n",
       "      <td>61</td>\n",
       "      <td>40.4272</td>\n",
       "      <td>71.7189</td>\n",
       "    </tr>\n",
       "    <tr>\n",
       "      <th>...</th>\n",
       "      <td>...</td>\n",
       "      <td>...</td>\n",
       "      <td>...</td>\n",
       "      <td>...</td>\n",
       "      <td>...</td>\n",
       "      <td>...</td>\n",
       "      <td>...</td>\n",
       "      <td>...</td>\n",
       "      <td>...</td>\n",
       "    </tr>\n",
       "    <tr>\n",
       "      <th>558</th>\n",
       "      <td>558</td>\n",
       "      <td>Asău</td>\n",
       "      <td>RO</td>\n",
       "      <td>7</td>\n",
       "      <td>17.01</td>\n",
       "      <td>7.74</td>\n",
       "      <td>44</td>\n",
       "      <td>46.4333</td>\n",
       "      <td>26.4000</td>\n",
       "    </tr>\n",
       "    <tr>\n",
       "      <th>559</th>\n",
       "      <td>559</td>\n",
       "      <td>Brigantine</td>\n",
       "      <td>US</td>\n",
       "      <td>90</td>\n",
       "      <td>28.99</td>\n",
       "      <td>5.75</td>\n",
       "      <td>64</td>\n",
       "      <td>39.4101</td>\n",
       "      <td>-74.3646</td>\n",
       "    </tr>\n",
       "    <tr>\n",
       "      <th>560</th>\n",
       "      <td>560</td>\n",
       "      <td>Sibu</td>\n",
       "      <td>MY</td>\n",
       "      <td>40</td>\n",
       "      <td>75.20</td>\n",
       "      <td>1.14</td>\n",
       "      <td>100</td>\n",
       "      <td>2.3000</td>\n",
       "      <td>111.8167</td>\n",
       "    </tr>\n",
       "    <tr>\n",
       "      <th>561</th>\n",
       "      <td>561</td>\n",
       "      <td>Sola</td>\n",
       "      <td>VU</td>\n",
       "      <td>75</td>\n",
       "      <td>89.60</td>\n",
       "      <td>12.30</td>\n",
       "      <td>70</td>\n",
       "      <td>-13.8833</td>\n",
       "      <td>167.5500</td>\n",
       "    </tr>\n",
       "    <tr>\n",
       "      <th>562</th>\n",
       "      <td>562</td>\n",
       "      <td>Ørje</td>\n",
       "      <td>NO</td>\n",
       "      <td>0</td>\n",
       "      <td>12.00</td>\n",
       "      <td>1.01</td>\n",
       "      <td>81</td>\n",
       "      <td>59.4802</td>\n",
       "      <td>11.6602</td>\n",
       "    </tr>\n",
       "  </tbody>\n",
       "</table>\n",
       "<p>563 rows × 9 columns</p>\n",
       "</div>"
      ],
      "text/plain": [
       "     City ID        City Name Country  Cloudiness  Max Temp  Wind Speed  \\\n",
       "0          0     Punta Arenas      CL          90     57.20       21.85   \n",
       "1          1         Almaznyy      RU          75     23.00       20.13   \n",
       "2          2        Cape Town      ZA           0     72.00        9.22   \n",
       "3          3  Arraial do Cabo      BR         100     76.51       15.68   \n",
       "4          4  Yangi Marg`ilon      UZ         100     42.80        4.61   \n",
       "..       ...              ...     ...         ...       ...         ...   \n",
       "558      558             Asău      RO           7     17.01        7.74   \n",
       "559      559       Brigantine      US          90     28.99        5.75   \n",
       "560      560             Sibu      MY          40     75.20        1.14   \n",
       "561      561             Sola      VU          75     89.60       12.30   \n",
       "562      562             Ørje      NO           0     12.00        1.01   \n",
       "\n",
       "     Humidity      Lat       Lng  \n",
       "0          51 -53.1500  -70.9167  \n",
       "1          74  48.0448   40.0450  \n",
       "2          88 -33.9258   18.4232  \n",
       "3          88 -22.9661  -42.0278  \n",
       "4          61  40.4272   71.7189  \n",
       "..        ...      ...       ...  \n",
       "558        44  46.4333   26.4000  \n",
       "559        64  39.4101  -74.3646  \n",
       "560       100   2.3000  111.8167  \n",
       "561        70 -13.8833  167.5500  \n",
       "562        81  59.4802   11.6602  \n",
       "\n",
       "[563 rows x 9 columns]"
      ]
     },
     "execution_count": 7,
     "metadata": {},
     "output_type": "execute_result"
    }
   ],
   "source": [
    "city_dataframe[city_dataframe[\"Humidity\"] <= 100]"
   ]
  },
  {
   "cell_type": "code",
   "execution_count": 8,
   "metadata": {},
   "outputs": [
    {
     "data": {
      "text/html": [
       "<div>\n",
       "<style scoped>\n",
       "    .dataframe tbody tr th:only-of-type {\n",
       "        vertical-align: middle;\n",
       "    }\n",
       "\n",
       "    .dataframe tbody tr th {\n",
       "        vertical-align: top;\n",
       "    }\n",
       "\n",
       "    .dataframe thead th {\n",
       "        text-align: right;\n",
       "    }\n",
       "</style>\n",
       "<table border=\"1\" class=\"dataframe\">\n",
       "  <thead>\n",
       "    <tr style=\"text-align: right;\">\n",
       "      <th></th>\n",
       "      <th>City ID</th>\n",
       "      <th>City Name</th>\n",
       "      <th>Country</th>\n",
       "      <th>Cloudiness</th>\n",
       "      <th>Max Temp</th>\n",
       "      <th>Wind Speed</th>\n",
       "      <th>Humidity</th>\n",
       "      <th>Lat</th>\n",
       "      <th>Lng</th>\n",
       "    </tr>\n",
       "  </thead>\n",
       "  <tbody>\n",
       "  </tbody>\n",
       "</table>\n",
       "</div>"
      ],
      "text/plain": [
       "Empty DataFrame\n",
       "Columns: [City ID, City Name, Country, Cloudiness, Max Temp, Wind Speed, Humidity, Lat, Lng]\n",
       "Index: []"
      ]
     },
     "execution_count": 8,
     "metadata": {},
     "output_type": "execute_result"
    }
   ],
   "source": [
    "# no cities with > 100%\n",
    "city_dataframe_greater_than_100 = city_dataframe.query(\"Humidity >  100\")\n",
    "city_dataframe_greater_than_100\n",
    "\n",
    "# 0 cities appear in the data frame, as there are no cities in the data frame with > 100% humidity "
   ]
  },
  {
   "cell_type": "code",
   "execution_count": null,
   "metadata": {},
   "outputs": [],
   "source": [
    "#  Get the indices of cities that have humidity over 100%.\n"
   ]
  },
  {
   "cell_type": "code",
   "execution_count": null,
   "metadata": {},
   "outputs": [],
   "source": [
    "# Make a new DataFrame equal to the city data to drop all humidity outliers by index.\n",
    "# Passing \"inplace=False\" will make a copy of the city_data DataFrame, which we call \"clean_city_data\".\n"
   ]
  },
  {
   "cell_type": "code",
   "execution_count": null,
   "metadata": {},
   "outputs": [],
   "source": [
    "\n"
   ]
  },
  {
   "cell_type": "markdown",
   "metadata": {},
   "source": [
    "## Plotting the Data\n",
    "* Use proper labeling of the plots using plot titles (including date of analysis) and axes labels.\n",
    "* Save the plotted figures as .pngs."
   ]
  },
  {
   "cell_type": "markdown",
   "metadata": {},
   "source": [
    "## Latitude vs. Temperature Plot"
   ]
  },
  {
   "cell_type": "code",
   "execution_count": 9,
   "metadata": {
    "scrolled": true
   },
   "outputs": [
    {
     "data": {
      "image/png": "[encoded data removed]",
      "text/plain": [
       "<Figure size 432x288 with 1 Axes>"
      ]
     },
     "metadata": {
      "needs_background": "light"
     },
     "output_type": "display_data"
    },
    {
     "data": {
      "text/plain": [
       "<Figure size 432x288 with 0 Axes>"
      ]
     },
     "metadata": {},
     "output_type": "display_data"
    }
   ],
   "source": [
    "plt.scatter(city_dataframe[\"Lat\"], city_dataframe[\"Max Temp\"], marker = \"o\", color = \"black\", edgecolor = \"black\")\n",
    "plt.grid()\n",
    "plt.xlabel(\"Latitude\")\n",
    "plt.ylabel(\"Temperature\")\n",
    "plt.title(\"Latitude vs. Temperature Plot\")\n",
    "plt.show()\n",
    "plt.savefig(\"Lat_Temp.png\")\n",
    "\n",
    "#reviewed as originally encountered issues getting the plot to save as a png"
   ]
  },
  {
   "cell_type": "markdown",
   "metadata": {},
   "source": [
    "## Latitude vs. Humidity Plot"
   ]
  },
  {
   "cell_type": "code",
   "execution_count": 10,
   "metadata": {},
   "outputs": [
    {
     "data": {
      "image/png": "[encoded data removed]",
      "text/plain": [
       "<Figure size 432x288 with 1 Axes>"
      ]
     },
     "metadata": {
      "needs_background": "light"
     },
     "output_type": "display_data"
    },
    {
     "data": {
      "text/plain": [
       "<Figure size 432x288 with 0 Axes>"
      ]
     },
     "metadata": {},
     "output_type": "display_data"
    }
   ],
   "source": [
    "plt.scatter(city_dataframe[\"Lat\"], city_dataframe[\"Humidity\"], marker = \"o\", color = \"black\", edgecolor = \"black\")\n",
    "plt.grid()\n",
    "plt.xlabel(\"Latitude\")\n",
    "plt.ylabel(\"Humidity\")\n",
    "plt.title(\"Latitude vs. Humidity Plot\")\n",
    "plt.show()\n",
    "plt.savefig(\"Lat_Humidity.png\")\n"
   ]
  },
  {
   "cell_type": "markdown",
   "metadata": {},
   "source": [
    "## Latitude vs. Cloudiness Plot"
   ]
  },
  {
   "cell_type": "code",
   "execution_count": 11,
   "metadata": {},
   "outputs": [
    {
     "data": {
      "image/png": "[encoded data removed]",
      "text/plain": [
       "<Figure size 432x288 with 1 Axes>"
      ]
     },
     "metadata": {
      "needs_background": "light"
     },
     "output_type": "display_data"
    },
    {
     "data": {
      "text/plain": [
       "<Figure size 432x288 with 0 Axes>"
      ]
     },
     "metadata": {},
     "output_type": "display_data"
    }
   ],
   "source": [
    "plt.scatter(city_dataframe[\"Lat\"], city_dataframe[\"Cloudiness\"], marker = \"o\", color = \"black\", edgecolor = \"black\")\n",
    "plt.grid()\n",
    "plt.xlabel(\"Latitude\")\n",
    "plt.ylabel(\"Cloudiness\")\n",
    "plt.title(\"Latitude vs. Cloudiness Plot\")\n",
    "plt.show()\n",
    "plt.savefig(\"Lat_CLoudiness.png\")\n"
   ]
  },
  {
   "cell_type": "markdown",
   "metadata": {},
   "source": [
    "## Latitude vs. Wind Speed Plot"
   ]
  },
  {
   "cell_type": "code",
   "execution_count": 12,
   "metadata": {},
   "outputs": [
    {
     "data": {
      "image/png": "[encoded data removed]",
      "text/plain": [
       "<Figure size 432x288 with 1 Axes>"
      ]
     },
     "metadata": {
      "needs_background": "light"
     },
     "output_type": "display_data"
    },
    {
     "data": {
      "text/plain": [
       "<Figure size 432x288 with 0 Axes>"
      ]
     },
     "metadata": {},
     "output_type": "display_data"
    }
   ],
   "source": [
    "plt.scatter(city_dataframe[\"Lat\"], city_dataframe[\"Wind Speed\"], marker = \"o\", color = \"black\", edgecolor = \"black\")\n",
    "plt.grid()\n",
    "plt.xlabel(\"Latitude\")\n",
    "plt.ylabel(\"Wind Speeds\")\n",
    "plt.title(\"Latitude vs. Wind Speed\")\n",
    "plt.show()\n",
    "plt.savefig(\"Lat_Wind.png\")\n"
   ]
  },
  {
   "cell_type": "markdown",
   "metadata": {},
   "source": [
    "## Linear Regression"
   ]
  },
  {
   "cell_type": "code",
   "execution_count": 13,
   "metadata": {},
   "outputs": [],
   "source": [
    "def linear_reg_plot(x_values,y_values, textcoords):\n",
    "    (slope, intercept, rvalue, pvalue, stderr) = linregress(x_values, y_values)\n",
    "    regress_values = x_values * slope + intercept\n",
    "    line_eq = \"y = \" + str(round(slope,2)) + \"x + \" + str(round(intercept,2))\n",
    "    plt.scatter(x_values,y_values)\n",
    "    plt.plot(x_values,regress_values,\"r-\")\n",
    "    plt.annotate(line_eq,textcoords,fontsize=20,color=\"red\",)\n",
    "    plt.xlabel(\"Latitude\")\n",
    "    print(f\"The r-squared is: {rvalue}\")\n",
    "    plt.show()"
   ]
  },
  {
   "cell_type": "markdown",
   "metadata": {},
   "source": [
    "####  Northern Hemisphere - Max Temp vs. Latitude Linear Regression"
   ]
  },
  {
   "cell_type": "code",
   "execution_count": 28,
   "metadata": {
    "scrolled": true
   },
   "outputs": [
    {
     "name": "stdout",
     "output_type": "stream",
     "text": [
      "The r-squared is: -0.8712472844664356\n"
     ]
    },
    {
     "data": {
      "image/png": "[encoded data removed]",
      "text/plain": [
       "<Figure size 432x288 with 1 Axes>"
      ]
     },
     "metadata": {
      "needs_background": "light"
     },
     "output_type": "display_data"
    },
    {
     "data": {
      "text/plain": [
       "<Figure size 432x288 with 0 Axes>"
      ]
     },
     "metadata": {},
     "output_type": "display_data"
    }
   ],
   "source": [
    "northern_hemisphere = city_dataframe.loc[city_dataframe[\"Lat\"] > 0]\n",
    "x_values = northern_hemisphere[\"Lat\"]\n",
    "y_values = northern_hemisphere[\"Max Temp\"]\n",
    "plt.ylabel(\"Max Temp (F)\")\n",
    "linear_reg_plot(x_values,y_values, (0,0))\n",
    "plt.savefig(\"N_Hemisphere_Max_Temp_Lat_Lin_Regression.png\")\n",
    "\n",
    "\n",
    "#discussed textcoords with tutor, learning how to adjust where the annoation appears on the graph "
   ]
  },
  {
   "cell_type": "markdown",
   "metadata": {},
   "source": [
    "####  Southern Hemisphere - Max Temp vs. Latitude Linear Regression"
   ]
  },
  {
   "cell_type": "code",
   "execution_count": 20,
   "metadata": {},
   "outputs": [
    {
     "name": "stdout",
     "output_type": "stream",
     "text": [
      "The r-squared is: 0.4864039210194503\n"
     ]
    },
    {
     "data": {
      "image/png": "[encoded data removed]",
      "text/plain": [
       "<Figure size 432x288 with 1 Axes>"
      ]
     },
     "metadata": {
      "needs_background": "light"
     },
     "output_type": "display_data"
    },
    {
     "data": {
      "text/plain": [
       "<Figure size 432x288 with 0 Axes>"
      ]
     },
     "metadata": {},
     "output_type": "display_data"
    }
   ],
   "source": [
    "Southern_hemisphere = city_dataframe.loc[city_dataframe[\"Lat\"]<0]\n",
    "x_values = Southern_hemisphere[\"Lat\"]\n",
    "y_values = Southern_hemisphere[\"Max Temp\"]\n",
    "plt.ylabel(\"Max Temp (F)\")\n",
    "linear_reg_plot(x_values,y_values, (-20, 55))\n",
    "plt.savefig(\"S_Hemisphere_Max_Temp_Lat_Lin_Regression.png\")\n"
   ]
  },
  {
   "cell_type": "markdown",
   "metadata": {},
   "source": [
    "####  Northern Hemisphere - Humidity (%) vs. Latitude Linear Regression"
   ]
  },
  {
   "cell_type": "code",
   "execution_count": 26,
   "metadata": {},
   "outputs": [
    {
     "name": "stdout",
     "output_type": "stream",
     "text": [
      "The r-squared is: 0.19165882066794768\n"
     ]
    },
    {
     "data": {
      "image/png": "[encoded data removed]",
      "text/plain": [
       "<Figure size 432x288 with 1 Axes>"
      ]
     },
     "metadata": {
      "needs_background": "light"
     },
     "output_type": "display_data"
    },
    {
     "data": {
      "text/plain": [
       "<Figure size 432x288 with 0 Axes>"
      ]
     },
     "metadata": {},
     "output_type": "display_data"
    }
   ],
   "source": [
    "x_values = northern_hemisphere[\"Lat\"]\n",
    "y_values = northern_hemisphere[\"Humidity\"]\n",
    "plt.ylabel(\"Humidity (%)\")\n",
    "linear_reg_plot(x_values,y_values, (20,20))\n",
    "plt.savefig(\"N_Hesiphere_Humidity_Lat_Lin_Regression.png\")"
   ]
  },
  {
   "cell_type": "markdown",
   "metadata": {},
   "source": [
    "####  Southern Hemisphere - Humidity (%) vs. Latitude Linear Regression"
   ]
  },
  {
   "cell_type": "code",
   "execution_count": 31,
   "metadata": {},
   "outputs": [
    {
     "name": "stdout",
     "output_type": "stream",
     "text": [
      "The r-squared is: 0.35574415973440865\n"
     ]
    },
    {
     "data": {
      "image/png": "[encoded data removed]",
      "text/plain": [
       "<Figure size 432x288 with 1 Axes>"
      ]
     },
     "metadata": {
      "needs_background": "light"
     },
     "output_type": "display_data"
    },
    {
     "data": {
      "text/plain": [
       "<Figure size 432x288 with 0 Axes>"
      ]
     },
     "metadata": {},
     "output_type": "display_data"
    }
   ],
   "source": [
    "x_values = Southern_hemisphere[\"Lat\"]\n",
    "y_values = Southern_hemisphere[\"Humidity\"]\n",
    "plt.ylim(0, y_values.max()+100)\n",
    "plt.ylabel(\"Humidity (%)\")\n",
    "linear_reg_plot(x_values,y_values, (-50, 25))\n",
    "plt.savefig(\"S_Hesiphere_Humidity_Lat_Lin_Regression.png\")"
   ]
  },
  {
   "cell_type": "markdown",
   "metadata": {},
   "source": [
    "####  Northern Hemisphere - Cloudiness (%) vs. Latitude Linear Regression"
   ]
  },
  {
   "cell_type": "code",
   "execution_count": 37,
   "metadata": {},
   "outputs": [
    {
     "name": "stdout",
     "output_type": "stream",
     "text": [
      "The r-squared is: 0.18059591555877366\n"
     ]
    },
    {
     "data": {
      "image/png": "[encoded data removed]",
      "text/plain": [
       "<Figure size 432x288 with 1 Axes>"
      ]
     },
     "metadata": {
      "needs_background": "light"
     },
     "output_type": "display_data"
    },
    {
     "data": {
      "text/plain": [
       "<Figure size 432x288 with 0 Axes>"
      ]
     },
     "metadata": {},
     "output_type": "display_data"
    }
   ],
   "source": [
    "x_values = northern_hemisphere[\"Lat\"]\n",
    "y_values = northern_hemisphere[\"Cloudiness\"]\n",
    "plt.ylabel(\"Cloudiness\")\n",
    "linear_reg_plot(x_values,y_values, (0,50))\n",
    "plt.savefig(\"N_Hesiphere_Cloudiness_Lat_Lin_Regression.png\")"
   ]
  },
  {
   "cell_type": "markdown",
   "metadata": {},
   "source": [
    "####  Southern Hemisphere - Cloudiness (%) vs. Latitude Linear Regression"
   ]
  },
  {
   "cell_type": "code",
   "execution_count": null,
   "metadata": {},
   "outputs": [],
   "source": [
    "x_values = Southern_hemisphere[\"Lat\"]\n",
    "y_values = Southern_hemisphere[\"Cloudiness\"]\n",
    "plt.ylabel(\"Cloudiness\")\n",
    "print(linear_reg_plot(x_values,y_values))\n"
   ]
  },
  {
   "cell_type": "markdown",
   "metadata": {},
   "source": [
    "####  Northern Hemisphere - Wind Speed (mph) vs. Latitude Linear Regression"
   ]
  },
  {
   "cell_type": "code",
   "execution_count": null,
   "metadata": {},
   "outputs": [],
   "source": [
    "x_values = northern_hemisphere[\"Lat\"]\n",
    "y_values = northern_hemisphere[\"Wind Speed\"]\n",
    "plt.ylabel(\"Wind Speed\")\n",
    "print(linear_reg_plot(x_values,y_values))"
   ]
  },
  {
   "cell_type": "markdown",
   "metadata": {},
   "source": [
    "####  Southern Hemisphere - Wind Speed (mph) vs. Latitude Linear Regression"
   ]
  },
  {
   "cell_type": "code",
   "execution_count": null,
   "metadata": {},
   "outputs": [],
   "source": [
    "x_values = Southern_hemisphere[\"Lat\"]\n",
    "y_values = Southern_hemisphere[\"Wind Speed\"]\n",
    "plt.ylabel(\"Wind Speed\")\n",
    "print(linear_reg_plot(x_values,y_values))\n",
    "\n"
   ]
  },
  {
   "cell_type": "code",
   "execution_count": null,
   "metadata": {},
   "outputs": [],
   "source": []
  }
 ],
 "metadata": {
  "anaconda-cloud": {},
  "kernel_info": {
   "name": "python3"
  },
  "kernelspec": {
   "display_name": "Python 3",
   "language": "python",
   "name": "python3"
  },
  "language_info": {
   "codemirror_mode": {
    "name": "ipython",
    "version": 3
   },
   "file_extension": ".py",
   "mimetype": "text/x-python",
   "name": "python",
   "nbconvert_exporter": "python",
   "pygments_lexer": "ipython3",
   "version": "3.6.10"
  },
  "latex_envs": {
   "LaTeX_envs_menu_present": true,
   "autoclose": false,
   "autocomplete": true,
   "bibliofile": "biblio.bib",
   "cite_by": "apalike",
   "current_citInitial": 1,
   "eqLabelWithNumbers": true,
   "eqNumInitial": 1,
   "hotkeys": {
    "equation": "Ctrl-E",
    "itemize": "Ctrl-I"
   },
   "labels_anchors": false,
   "latex_user_defs": false,
   "report_style_numbering": false,
   "user_envs_cfg": false
  },
  "nteract": {
   "version": "0.12.3"
  }
 },
 "nbformat": 4,
 "nbformat_minor": 2
}
