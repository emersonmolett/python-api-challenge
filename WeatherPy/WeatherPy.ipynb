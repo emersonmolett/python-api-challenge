{
 "cells": [
  {
   "cell_type": "markdown",
   "metadata": {},
   "source": [
    "# WeatherPy\n",
    "----\n",
    "\n",
    "#### Note\n",
    "* Instructions have been included for each segment. You do not have to follow them exactly, but they are included to help you think through the steps."
   ]
  },
  {
   "cell_type": "code",
   "execution_count": 4,
   "metadata": {
    "scrolled": true
   },
   "outputs": [],
   "source": [
    "# Dependencies and Setup\n",
    "import matplotlib.pyplot as plt\n",
    "import pandas as pd\n",
    "import numpy as np\n",
    "import requests\n",
    "import time\n",
    "from scipy.stats import linregress\n",
    "import json\n",
    "import scipy.stats as st\n",
    "\n",
    "# Import API key\n",
    "from api_keys import weather_api_key\n",
    "\n",
    "# Incorporated citipy to determine city based on latitude and longitude\n",
    "from citipy import citipy\n",
    "\n",
    "# Output File (CSV)\n",
    "output_data_file = \"output_data/cities.csv\"\n",
    "\n",
    "# Range of latitudes and longitudes\n",
    "lat_range = (-90, 90)\n",
    "lng_range = (-180, 180)"
   ]
  },
  {
   "cell_type": "markdown",
   "metadata": {},
   "source": [
    "## Generate Cities List"
   ]
  },
  {
   "cell_type": "code",
   "execution_count": 15,
   "metadata": {},
   "outputs": [
    {
     "data": {
      "text/plain": [
       "612"
      ]
     },
     "execution_count": 15,
     "metadata": {},
     "output_type": "execute_result"
    }
   ],
   "source": [
    "# List for holding lat_lngs and cities\n",
    "lat_lngs = []\n",
    "cities = []\n",
    "\n",
    "# Create a set of random lat and lng combinations\n",
    "lats = np.random.uniform(lat_range[0], lat_range[1], size=1500)\n",
    "lngs = np.random.uniform(lng_range[0], lng_range[1], size=1500)\n",
    "lat_lngs = zip(lats, lngs)\n",
    "\n",
    "# Identify nearest city for each lat, lng combination\n",
    "for lat_lng in lat_lngs:\n",
    "    city = citipy.nearest_city(lat_lng[0], lat_lng[1]).city_name\n",
    "    \n",
    "    # If the city is unique, then add it to a our cities list\n",
    "    if city not in cities:\n",
    "        cities.append(city)\n",
    "\n",
    "# Print the city count to confirm sufficient count\n",
    "len(cities)\n",
    "#cities"
   ]
  },
  {
   "cell_type": "markdown",
   "metadata": {},
   "source": [
    "### Perform API Calls\n",
    "* Perform a weather check on each city using a series of successive API calls.\n",
    "* Include a print log of each city as it'sbeing processed (with the city number and city name).\n"
   ]
  },
  {
   "cell_type": "code",
   "execution_count": 19,
   "metadata": {
    "scrolled": true
   },
   "outputs": [
    {
     "name": "stdout",
     "output_type": "stream",
     "text": [
      "Processing record 1|punta arenas\n",
      "Processing record 2|butaritari\n",
      "Processing record 3|bluff\n",
      "Processing record 4|kirakira\n",
      "Processing record 5|airai\n",
      "Processing record 6|lebu\n",
      "Processing record 7|swan hill\n",
      "Processing record 8|arraial do cabo\n",
      "Processing record 9|geraldton\n",
      "Processing record 10|suleja\n",
      "Processing record 11|hithadhoo\n",
      "City not found. skipping.\n",
      "Processing record 12|kloulklubed\n",
      "Processing record 13|puerto ayora\n",
      "Processing record 14|kamaishi\n",
      "Processing record 15|esperance\n",
      "City not found. skipping.\n",
      "Processing record 16|kruisfontein\n",
      "Processing record 17|hilo\n",
      "Processing record 18|kodiak\n",
      "Processing record 19|cape town\n",
      "Processing record 20|lata\n",
      "Processing record 21|tiksi\n",
      "Processing record 22|dongsheng\n",
      "Processing record 23|georgetown\n",
      "Processing record 24|tecpan\n",
      "Processing record 25|pemba\n",
      "Processing record 26|boa vista\n",
      "Processing record 27|rikitea\n",
      "Processing record 28|nouadhibou\n",
      "Processing record 29|carnarvon\n",
      "Processing record 30|ushuaia\n",
      "Processing record 31|sao filipe\n",
      "Processing record 32|touros\n",
      "Processing record 33|los llanos de aridane\n",
      "Processing record 34|kananga\n",
      "Processing record 35|hobart\n",
      "Processing record 36|barrow\n",
      "Processing record 37|duekoue\n",
      "Processing record 38|tuatapere\n",
      "Processing record 39|tucumcari\n",
      "Processing record 40|kaitangata\n",
      "Processing record 41|nikolskoye\n",
      "Processing record 42|busselton\n",
      "Processing record 43|ahipara\n",
      "Processing record 44|darhan\n",
      "Processing record 45|hermanus\n",
      "Processing record 46|leh\n",
      "City not found. skipping.\n",
      "Processing record 47|mount gambier\n",
      "City not found. skipping.\n",
      "Processing record 48|margate\n",
      "Processing record 49|kaniama\n",
      "Processing record 50|hami\n",
      "Processing record 51|norman wells\n",
      "Processing record 52|victoria\n",
      "Processing record 53|manises\n",
      "Processing record 54|salihorsk\n",
      "Processing record 55|severo-kurilsk\n",
      "City not found. skipping.\n",
      "Processing record 56|strai\n",
      "Processing record 57|kautokeino\n",
      "Processing record 58|mar del plata\n",
      "City not found. skipping.\n",
      "Processing record 59|elati\n",
      "Processing record 60|tasiilaq\n",
      "Processing record 61|port alfred\n",
      "Processing record 62|rongcheng\n",
      "Processing record 63|guerrero negro\n",
      "Processing record 64|vila velha\n",
      "Processing record 65|albany\n",
      "Processing record 66|praia da vitoria\n",
      "City not found. skipping.\n",
      "Processing record 67|isangel\n",
      "City not found. skipping.\n",
      "Processing record 68|kapaa\n",
      "Processing record 69|cumana\n",
      "City not found. skipping.\n",
      "Processing record 70|changji\n",
      "Processing record 71|zhangye\n",
      "Processing record 72|chuy\n",
      "Processing record 73|swan river\n",
      "Processing record 74|torrevieja\n",
      "Processing record 75|jamestown\n",
      "Processing record 76|thunder bay\n",
      "Processing record 77|kuala terengganu\n",
      "Processing record 78|makakilo city\n",
      "Processing record 79|qaanaaq\n",
      "Processing record 80|avarua\n",
      "Processing record 81|cap malheureux\n",
      "Processing record 82|broken hill\n",
      "Processing record 83|clyde river\n",
      "Processing record 84|lokosovo\n",
      "Processing record 85|muros\n",
      "Processing record 86|boyolangu\n",
      "Processing record 87|ancud\n",
      "Processing record 88|mataura\n",
      "Processing record 89|vaini\n",
      "Processing record 90|saskylakh\n",
      "Processing record 91|bambanglipuro\n",
      "Processing record 92|naze\n",
      "Processing record 93|faanui\n",
      "Processing record 94|saldanha\n",
      "Processing record 95|tateyama\n",
      "Processing record 96|alofi\n",
      "Processing record 97|capinopolis\n",
      "City not found. skipping.\n",
      "Processing record 98|narsaq\n",
      "Processing record 99|yulara\n",
      "Processing record 100|aklavik\n",
      "Processing record 101|ribeira grande\n",
      "Processing record 102|tuktoyaktuk\n",
      "Processing record 103|east london\n",
      "Processing record 104|fortuna\n",
      "Processing record 105|saint-denis\n",
      "Processing record 106|henties bay\n",
      "Processing record 107|dormidontovka\n",
      "Processing record 108|manta\n",
      "City not found. skipping.\n",
      "Processing record 109|makokou\n",
      "Processing record 110|great yarmouth\n",
      "Processing record 111|port hardy\n",
      "Processing record 112|udachnyy\n",
      "Processing record 113|yellowknife\n",
      "Processing record 114|hambantota\n",
      "Processing record 115|salalah\n",
      "Processing record 116|fayaoue\n",
      "Processing record 117|singaraja\n",
      "Processing record 118|haldensleben\n",
      "City not found. skipping.\n",
      "City not found. skipping.\n",
      "Processing record 119|matara\n",
      "Processing record 120|gazi\n",
      "Processing record 121|tara\n",
      "Processing record 122|komsomolskiy\n",
      "Processing record 123|sena madureira\n",
      "City not found. skipping.\n",
      "Processing record 124|chokurdakh\n",
      "Processing record 125|cockburn town\n",
      "Processing record 126|menongue\n",
      "Processing record 127|basco\n",
      "Processing record 128|tanete\n",
      "City not found. skipping.\n",
      "Processing record 129|buala\n",
      "Processing record 130|high level\n",
      "Processing record 131|grajau\n",
      "Processing record 132|san patricio\n",
      "Processing record 133|matagami\n",
      "Processing record 134|mahebourg\n",
      "City not found. skipping.\n",
      "Processing record 135|namibe\n",
      "Processing record 136|waw\n",
      "Processing record 137|pecos\n",
      "Processing record 138|cheltenham\n",
      "Processing record 139|khatanga\n",
      "City not found. skipping.\n",
      "Processing record 140|vanavara\n",
      "Processing record 141|shubarkuduk\n",
      "Processing record 142|urucui\n",
      "Processing record 143|codajas\n",
      "Processing record 144|luderitz\n",
      "Processing record 145|mitsamiouli\n",
      "Processing record 146|marzuq\n",
      "Processing record 147|upernavik\n",
      "Processing record 148|dali\n",
      "Processing record 149|cabedelo\n",
      "Processing record 150|puerto ayacucho\n",
      "City not found. skipping.\n",
      "Processing record 151|provideniya\n",
      "Processing record 152|nishihara\n",
      "Processing record 153|wonthaggi\n",
      "Processing record 154|new norfolk\n",
      "Processing record 155|atuona\n",
      "Processing record 156|akom\n",
      "Processing record 157|ketchikan\n",
      "Processing record 158|saint-pierre\n",
      "Processing record 159|xinzhou\n",
      "Processing record 160|oistins\n",
      "Processing record 161|deputatskiy\n",
      "Processing record 162|comodoro rivadavia\n",
      "Processing record 163|visnes\n",
      "Processing record 164|moranbah\n",
      "Processing record 165|katsuura\n",
      "Processing record 166|torfyanoy\n",
      "Processing record 167|curuan\n",
      "Processing record 168|northam\n",
      "Processing record 169|santa catarina de tepehuanes\n",
      "Processing record 170|montepuez\n",
      "Processing record 171|quatre cocos\n",
      "Processing record 172|castro\n",
      "City not found. skipping.\n",
      "Processing record 173|la sarre\n",
      "Processing record 174|sinnamary\n",
      "Processing record 175|nehe\n",
      "Processing record 176|tokat\n",
      "Processing record 177|labuhan\n",
      "Processing record 178|sobolevo\n",
      "Processing record 179|makat\n",
      "Processing record 180|ambilobe\n",
      "Processing record 181|grand gaube\n",
      "Processing record 182|bengkulu\n",
      "City not found. skipping.\n",
      "Processing record 183|bandarbeyla\n",
      "Processing record 184|along\n",
      "City not found. skipping.\n",
      "Processing record 185|coquimbo\n",
      "Processing record 186|bredasdorp\n",
      "City not found. skipping.\n",
      "Processing record 187|ayia paraskevi\n",
      "Processing record 188|aleppo\n",
      "Processing record 189|dargaville\n",
      "Processing record 190|leshukonskoye\n",
      "Processing record 191|itaituba\n",
      "Processing record 192|bar harbor\n",
      "Processing record 193|berlevag\n",
      "Processing record 194|kavieng\n",
      "City not found. skipping.\n",
      "Processing record 195|vladyslavivka\n",
      "Processing record 196|souillac\n",
      "Processing record 197|mogocha\n",
      "Processing record 198|carauari\n",
      "Processing record 199|abu samrah\n",
      "Processing record 200|manggar\n",
      "Processing record 201|aracati\n",
      "Processing record 202|saint-georges\n",
      "Processing record 203|bundaberg\n",
      "Processing record 204|pietrosita\n",
      "City not found. skipping.\n",
      "City not found. skipping.\n",
      "Processing record 205|moultonborough\n",
      "Processing record 206|san jose\n",
      "Processing record 207|saint george\n",
      "Processing record 208|casma\n",
      "City not found. skipping.\n",
      "Processing record 209|cabo san lucas\n",
      "Processing record 210|haimen\n",
      "Processing record 211|dikson\n",
      "Processing record 212|tautira\n",
      "City not found. skipping.\n",
      "Processing record 213|lakatoro\n",
      "Processing record 214|kayerkan\n",
      "Processing record 215|ust-kuyga\n",
      "Processing record 216|gimli\n",
      "Processing record 217|kaliganj\n",
      "Processing record 218|codrington\n",
      "Processing record 219|bilibino\n",
      "Processing record 220|daru\n",
      "Processing record 221|hasaki\n",
      "Processing record 222|george town\n",
      "Processing record 223|agnibilekrou\n",
      "Processing record 224|frumusita\n",
      "Processing record 225|talnakh\n",
      "Processing record 226|inuvik\n",
      "Processing record 227|paratebueno\n",
      "Processing record 228|yeppoon\n",
      "City not found. skipping.\n",
      "Processing record 229|mana\n",
      "Processing record 230|touho\n",
      "Processing record 231|gilbues\n",
      "Processing record 232|mandiana\n",
      "Processing record 233|anadyr\n",
      "Processing record 234|lumsden\n",
      "Processing record 235|baruun-urt\n",
      "Processing record 236|hajipur\n",
      "Processing record 237|jambi\n",
      "Processing record 238|careiro da varzea\n",
      "Processing record 239|mayor pablo lagerenza\n",
      "Processing record 240|sao felix do xingu\n",
      "Processing record 241|nuuk\n"
     ]
    },
    {
     "name": "stdout",
     "output_type": "stream",
     "text": [
      "City not found. skipping.\n",
      "Processing record 242|peruibe\n",
      "Processing record 243|mantua\n",
      "Processing record 244|micheweni\n",
      "Processing record 245|oeiras do para\n",
      "Processing record 246|chimore\n",
      "Processing record 247|izhma\n",
      "City not found. skipping.\n",
      "Processing record 248|borogontsy\n",
      "Processing record 249|graham\n",
      "Processing record 250|bosanska gradiska\n",
      "Processing record 251|keti bandar\n",
      "Processing record 252|zhigansk\n",
      "Processing record 253|cururupu\n",
      "Processing record 254|armenia\n",
      "Processing record 255|sinegorskiy\n",
      "Processing record 256|staraya mayna\n",
      "Processing record 257|santa fe\n",
      "Processing record 258|beringovskiy\n",
      "Processing record 259|caravelas\n",
      "Processing record 260|norsup\n",
      "Processing record 261|nicoya\n",
      "City not found. skipping.\n",
      "Processing record 262|troitskoye\n",
      "City not found. skipping.\n",
      "Processing record 263|havoysund\n",
      "Processing record 264|mazyr\n",
      "Processing record 265|cidreira\n",
      "Processing record 266|kichmengskiy gorodok\n",
      "Processing record 267|longyearbyen\n",
      "Processing record 268|maceio\n",
      "Processing record 269|faya\n",
      "Processing record 270|port elizabeth\n",
      "Processing record 271|kahului\n",
      "Processing record 272|aswan\n",
      "Processing record 273|kushima\n",
      "Processing record 274|monte patria\n",
      "Processing record 275|fort-shevchenko\n",
      "Processing record 276|thompson\n",
      "Processing record 277|kariba\n",
      "Processing record 278|encruzilhada do sul\n",
      "Processing record 279|flinders\n",
      "Processing record 280|saint-paul\n",
      "Processing record 281|kualakapuas\n",
      "Processing record 282|auki\n",
      "Processing record 283|pangnirtung\n",
      "Processing record 284|malinovoye ozero\n",
      "Processing record 285|sola\n",
      "City not found. skipping.\n",
      "Processing record 286|seoul\n",
      "Processing record 287|sisophon\n",
      "Processing record 288|dossor\n",
      "Processing record 289|guangyuan\n",
      "Processing record 290|mitzic\n",
      "Processing record 291|lagoa\n",
      "Processing record 292|sfantu gheorghe\n",
      "Processing record 293|odweyne\n",
      "Processing record 294|gizo\n",
      "Processing record 295|torbay\n",
      "Processing record 296|thinadhoo\n",
      "Processing record 297|russell\n",
      "Processing record 298|kattivakkam\n",
      "Processing record 299|tura\n",
      "Processing record 300|cherskiy\n",
      "Processing record 301|arisvi\n",
      "Processing record 302|potam\n",
      "Processing record 303|constitucion\n",
      "Processing record 304|lompoc\n",
      "Processing record 305|kavaratti\n",
      "Processing record 306|saint-philippe\n",
      "Processing record 307|klaksvik\n",
      "Processing record 308|itoman\n",
      "City not found. skipping.\n",
      "Processing record 309|avera\n",
      "Processing record 310|puerto escondido\n",
      "Processing record 311|ponta do sol\n",
      "Processing record 312|nanortalik\n",
      "City not found. skipping.\n",
      "Processing record 313|vardo\n",
      "Processing record 314|iqaluit\n",
      "Processing record 315|poum\n",
      "Processing record 316|ishigaki\n",
      "Processing record 317|hashtrud\n",
      "Processing record 318|ahome\n",
      "Processing record 319|mandalgovi\n",
      "Processing record 320|port-gentil\n",
      "Processing record 321|aljezur\n",
      "City not found. skipping.\n",
      "Processing record 322|piacabucu\n",
      "Processing record 323|gonnoi\n",
      "Processing record 324|yerbogachen\n",
      "Processing record 325|belaya gora\n",
      "Processing record 326|haapiti\n",
      "Processing record 327|te anau\n",
      "Processing record 328|qui nhon\n",
      "City not found. skipping.\n",
      "Processing record 329|nakhon phanom\n",
      "Processing record 330|ladario\n",
      "Processing record 331|sorong\n",
      "Processing record 332|san luis\n",
      "Processing record 333|noumea\n",
      "Processing record 334|astana\n",
      "Processing record 335|tucupita\n",
      "Processing record 336|tyukalinsk\n",
      "Processing record 337|pechory\n",
      "Processing record 338|pevek\n",
      "City not found. skipping.\n",
      "Processing record 339|sierra vista\n",
      "Processing record 340|coahuayana\n",
      "Processing record 341|puerto maldonado\n",
      "Processing record 342|plettenberg bay\n",
      "Processing record 343|altar\n",
      "City not found. skipping.\n",
      "Processing record 344|wasco\n",
      "Processing record 345|gawler\n",
      "Processing record 346|alice springs\n",
      "City not found. skipping.\n",
      "Processing record 347|marsa matruh\n",
      "City not found. skipping.\n",
      "Processing record 348|brusyliv\n",
      "Processing record 349|sambava\n",
      "Processing record 350|port lincoln\n",
      "Processing record 351|bathsheba\n",
      "Processing record 352|parabel\n",
      "Processing record 353|pangkalanbuun\n",
      "Processing record 354|porvoo\n",
      "Processing record 355|deer lake\n",
      "Processing record 356|rincon\n",
      "Processing record 357|mahasamund\n",
      "Processing record 358|podolinec\n",
      "Processing record 359|falam\n",
      "Processing record 360|central point\n",
      "Processing record 361|ushtobe\n",
      "Processing record 362|houma\n",
      "Processing record 363|promyshlennaya\n",
      "Processing record 364|vagur\n",
      "Processing record 365|pangoa\n",
      "Processing record 366|deqing\n",
      "Processing record 367|ilulissat\n",
      "Processing record 368|visby\n",
      "City not found. skipping.\n",
      "Processing record 369|bahia honda\n",
      "City not found. skipping.\n",
      "Processing record 370|santa cruz\n",
      "Processing record 371|hohhot\n",
      "Processing record 372|lethem\n",
      "Processing record 373|molina\n",
      "Processing record 374|alegrete\n",
      "Processing record 375|dubovka\n",
      "Processing record 376|tsiroanomandidy\n",
      "Processing record 377|okha\n",
      "Processing record 378|rovaniemi\n",
      "Processing record 379|jishou\n",
      "Processing record 380|chupa\n",
      "Processing record 381|kiama\n",
      "Processing record 382|egvekinot\n",
      "Processing record 383|port hedland\n",
      "Processing record 384|calabozo\n",
      "Processing record 385|husavik\n",
      "Processing record 386|guadalupe y calvo\n",
      "Processing record 387|kudahuvadhoo\n",
      "Processing record 388|jinchang\n",
      "Processing record 389|celestun\n",
      "Processing record 390|meulaboh\n",
      "Processing record 391|moron\n",
      "Processing record 392|jacareacanga\n",
      "Processing record 393|cartagena\n",
      "Processing record 394|tyshkivka\n",
      "Processing record 395|batagay\n",
      "Processing record 396|kiruna\n",
      "Processing record 397|barcelos\n",
      "Processing record 398|aneho\n",
      "Processing record 399|kirundo\n",
      "Processing record 400|male\n",
      "Processing record 401|terrace\n",
      "Processing record 402|quelimane\n",
      "Processing record 403|goderich\n",
      "Processing record 404|necochea\n",
      "Processing record 405|tromso\n",
      "Processing record 406|pisco\n",
      "City not found. skipping.\n",
      "City not found. skipping.\n",
      "Processing record 407|weligama\n",
      "Processing record 408|vilyuysk\n",
      "Processing record 409|arcata\n",
      "Processing record 410|labytnangi\n",
      "Processing record 411|san vicente\n",
      "Processing record 412|urucara\n",
      "Processing record 413|gat\n",
      "Processing record 414|cooma\n",
      "Processing record 415|yarmouth\n",
      "Processing record 416|bluefield\n",
      "Processing record 417|ratnagiri\n",
      "Processing record 418|nemuro\n",
      "Processing record 419|sivaki\n",
      "Processing record 420|koson\n",
      "City not found. skipping.\n",
      "Processing record 421|sao joao da barra\n",
      "Processing record 422|karpushikha\n",
      "Processing record 423|nadym\n",
      "Processing record 424|half moon bay\n",
      "Processing record 425|namatanai\n",
      "Processing record 426|smirnykh\n",
      "Processing record 427|qeshm\n",
      "Processing record 428|chilca\n",
      "Processing record 429|puerto narino\n",
      "Processing record 430|semikarakorsk\n",
      "Processing record 431|portland\n",
      "Processing record 432|dzhebariki-khaya\n",
      "Processing record 433|lodja\n",
      "Processing record 434|saint-francois\n",
      "Processing record 435|presidencia roque saenz pena\n",
      "Processing record 436|santiago de cao\n",
      "Processing record 437|paamiut\n",
      "Processing record 438|dhanwar\n",
      "Processing record 439|san policarpo\n",
      "Processing record 440|coihaique\n",
      "Processing record 441|bethel\n",
      "Processing record 442|lazaro cardenas\n",
      "Processing record 443|bouar\n",
      "City not found. skipping.\n",
      "Processing record 444|namtsy\n",
      "City not found. skipping.\n",
      "Processing record 445|aasiaat\n",
      "Processing record 446|aketi\n",
      "Processing record 447|rexburg\n",
      "Processing record 448|lorengau\n",
      "Processing record 449|chernyshevskiy\n",
      "Processing record 450|omboue\n",
      "Processing record 451|hofn\n",
      "Processing record 452|olafsvik\n",
      "Processing record 453|somerset\n",
      "Processing record 454|oranjemund\n",
      "Processing record 455|wajima\n",
      "Processing record 456|asau\n",
      "Processing record 457|lavrentiya\n",
      "Processing record 458|yangambi\n",
      "Processing record 459|broome\n",
      "Processing record 460|mims\n",
      "Processing record 461|buckeye\n",
      "City not found. skipping.\n",
      "Processing record 462|fairbanks\n",
      "Processing record 463|vestmanna\n",
      "Processing record 464|soyo\n",
      "Processing record 465|liaqatabad\n",
      "Processing record 466|bridlington\n",
      "Processing record 467|nome\n",
      "Processing record 468|nambucca heads\n",
      "Processing record 469|honningsvag\n",
      "City not found. skipping.\n",
      "Processing record 470|navrongo\n",
      "Processing record 471|karratha\n",
      "Processing record 472|grimshaw\n",
      "Processing record 473|nantucket\n",
      "Processing record 474|plyussa\n",
      "Processing record 475|haines junction\n",
      "Processing record 476|port blair\n",
      "Processing record 477|san miguel\n",
      "Processing record 478|kriftel\n",
      "Processing record 479|sibolga\n",
      "Processing record 480|priiskovyy\n",
      "Processing record 481|san jeronimo\n",
      "Processing record 482|lingao\n",
      "Processing record 483|esil\n"
     ]
    },
    {
     "name": "stdout",
     "output_type": "stream",
     "text": [
      "Processing record 484|chillicothe\n",
      "Processing record 485|nabire\n",
      "City not found. skipping.\n",
      "Processing record 486|sault sainte marie\n",
      "Processing record 487|axim\n",
      "Processing record 488|moerai\n",
      "Processing record 489|kalmunai\n",
      "Processing record 490|natal\n",
      "Processing record 491|bereda\n",
      "Processing record 492|aqtobe\n",
      "Processing record 493|miri\n",
      "Processing record 494|bumba\n",
      "Processing record 495|kolyshley\n",
      "Processing record 496|camabatela\n",
      "Processing record 497|san quintin\n",
      "Processing record 498|taoudenni\n",
      "Processing record 499|ivanjica\n",
      "Processing record 500|lugovoy\n",
      "Processing record 501|olga\n",
      "Processing record 502|acapulco\n",
      "Processing record 503|taksimo\n",
      "Processing record 504|vestmannaeyjar\n",
      "Processing record 505|hope\n",
      "City not found. skipping.\n",
      "Processing record 506|genhe\n",
      "Processing record 507|la ronge\n",
      "Processing record 508|kaka\n",
      "Processing record 509|wawa\n",
      "Processing record 510|kluczbork\n",
      "Processing record 511|saint-tite\n",
      "Processing record 512|yar-sale\n",
      "Processing record 513|devarkonda\n",
      "Processing record 514|ostersund\n",
      "Processing record 515|shishou\n",
      "Processing record 516|finschhafen\n",
      "Processing record 517|moyale\n",
      "Processing record 518|mecca\n",
      "Processing record 519|banda aceh\n",
      "Processing record 520|miramar\n",
      "Processing record 521|westport\n",
      "Processing record 522|tarko-sale\n",
      "Processing record 523|pemangkat\n",
      "Processing record 524|yakeshi\n",
      "Processing record 525|bac lieu\n",
      "Processing record 526|biltine\n",
      "Processing record 527|jijiga\n",
      "Processing record 528|peterhead\n",
      "Processing record 529|imbituba\n",
      "Processing record 530|casablanca\n",
      "Processing record 531|kingsville\n",
      "Processing record 532|senno\n",
      "Processing record 533|pirapozinho\n",
      "Processing record 534|flin flon\n",
      "City not found. skipping.\n",
      "Processing record 535|colomiers\n",
      "Processing record 536|bogoroditsk\n",
      "Processing record 537|ngunguru\n",
      "Processing record 538|sitka\n",
      "Processing record 539|korla\n",
      "Processing record 540|mayo\n",
      "Processing record 541|zhanaozen\n",
      "Processing record 542|bima\n",
      "Processing record 543|picayune\n",
      "Processing record 544|hyeres\n",
      "Processing record 545|omsukchan\n",
      "Processing record 546|businga\n",
      "City not found. skipping.\n",
      "Processing record 547|padang\n",
      "Processing record 548|sao desiderio\n",
      "Processing record 549|sioux lookout\n",
      "Processing record 550|tha rua\n",
      "Processing record 551|talara\n",
      "Processing record 552|malko tarnovo\n",
      "Processing record 553|mashhad\n",
      "Processing record 554|cuamba\n",
      "City not found. skipping.\n",
      "Processing record 555|harbour breton\n",
      "Processing record 556|siderno\n",
      "Processing record 557|manokwari\n"
     ]
    }
   ],
   "source": [
    "url = \"http://api.openweathermap.org/data/2.5/weather?units=Imperial&\"\n",
    "\n",
    "#Define empty lists to store values\n",
    "cloudiness = []\n",
    "country = []\n",
    "date = []\n",
    "max_temp = []\n",
    "humidity = []\n",
    "lat = []\n",
    "lng = []\n",
    "wind_speed = []\n",
    "city_name = []\n",
    "\n",
    "#Looping through cities to make api calls using city as query\n",
    "i = 1\n",
    "for city in cities:\n",
    "    city=city\n",
    "    query_url = url + \"appid=\" + weather_api_key + \"&q=\" + city\n",
    "    response = requests.get(query_url).json()\n",
    "    \n",
    "#Extracting data. Missing data is handled by try and except  \n",
    "    try:\n",
    "        \n",
    "        cloudiness.append(response[\"clouds\"][\"all\"])\n",
    "        country.append(response[\"sys\"][\"country\"])\n",
    "        date.append(response[\"dt\"])\n",
    "        max_temp.append(response[\"main\"]['temp_max'])\n",
    "        humidity.append(response[\"main\"]['humidity'])\n",
    "        lat.append(response[\"coord\"][\"lat\"])  \n",
    "        lng.append(response[\"coord\"][\"lon\"])\n",
    "        wind_speed.append(response[\"wind\"][\"speed\"])\n",
    "        city_name.append(response[\"name\"])\n",
    "        print(f\"Processing record {i}|{city}\")\n",
    "        i+=1\n",
    "    except (KeyError):\n",
    "        print(\"City not found. skipping.\")\n",
    "\n"
   ]
  },
  {
   "cell_type": "markdown",
   "metadata": {},
   "source": [
    "### Convert Raw Data to DataFrame\n",
    "* Export the city data into a .csv.\n",
    "* Display the DataFrame"
   ]
  },
  {
   "cell_type": "code",
   "execution_count": 2,
   "metadata": {},
   "outputs": [
    {
     "ename": "NameError",
     "evalue": "name 'pd' is not defined",
     "output_type": "error",
     "traceback": [
      "\u001b[1;31m---------------------------------------------------------------------------\u001b[0m",
      "\u001b[1;31mNameError\u001b[0m                                 Traceback (most recent call last)",
      "\u001b[1;32m<ipython-input-2-934dbac2e2ee>\u001b[0m in \u001b[0;36m<module>\u001b[1;34m\u001b[0m\n\u001b[0;32m      1\u001b[0m \u001b[1;31m# Display the DataFrame\u001b[0m\u001b[1;33m\u001b[0m\u001b[1;33m\u001b[0m\u001b[1;33m\u001b[0m\u001b[0m\n\u001b[1;32m----> 2\u001b[1;33m city_dataframe = pd.DataFrame({\n\u001b[0m\u001b[0;32m      3\u001b[0m                                 \u001b[1;34m\"City Name\"\u001b[0m\u001b[1;33m:\u001b[0m \u001b[0mcity_name\u001b[0m\u001b[1;33m,\u001b[0m\u001b[1;33m\u001b[0m\u001b[1;33m\u001b[0m\u001b[0m\n\u001b[0;32m      4\u001b[0m                                 \u001b[1;34m\"Country\"\u001b[0m\u001b[1;33m:\u001b[0m \u001b[0mcountry\u001b[0m\u001b[1;33m,\u001b[0m\u001b[1;33m\u001b[0m\u001b[1;33m\u001b[0m\u001b[0m\n\u001b[0;32m      5\u001b[0m                                 \u001b[1;34m\"Cloudiness\"\u001b[0m\u001b[1;33m:\u001b[0m \u001b[0mcloudiness\u001b[0m\u001b[1;33m,\u001b[0m\u001b[1;33m\u001b[0m\u001b[1;33m\u001b[0m\u001b[0m\n",
      "\u001b[1;31mNameError\u001b[0m: name 'pd' is not defined"
     ]
    }
   ],
   "source": [
    "# Display the DataFrame\n",
    "city_dataframe = pd.DataFrame({\n",
    "                                \"City Name\": city_name,\n",
    "                                \"Country\": country,\n",
    "                                \"Cloudiness\": cloudiness, \n",
    "                                \"Max Temp\": max_temp, \n",
    "                                \"Wind Speed\": wind_speed,\n",
    "                                \"Humidity\": humidity,\n",
    "                                \"Lat\": lat, \n",
    "                                \"Lng\": lng,\n",
    "                               })\n",
    "\n",
    "city_dataframe = city_dataframe.rename_axis(\"City ID\")\n",
    "city_dataframe.head()"
   ]
  },
  {
   "cell_type": "code",
   "execution_count": 117,
   "metadata": {},
   "outputs": [],
   "source": [
    "# Export the city data into a .csv.\n",
    "city_dataframe.to_csv(\"city_dataframe.csv\")\n",
    "    \n"
   ]
  },
  {
   "cell_type": "markdown",
   "metadata": {},
   "source": [
    "## Inspect the data and remove the cities where the humidity > 100%.\n",
    "----\n",
    "Skip this step if there are no cities that have humidity > 100%. "
   ]
  },
  {
   "cell_type": "code",
   "execution_count": 12,
   "metadata": {},
   "outputs": [
    {
     "data": {
      "text/html": [
       "<div>\n",
       "<style scoped>\n",
       "    .dataframe tbody tr th:only-of-type {\n",
       "        vertical-align: middle;\n",
       "    }\n",
       "\n",
       "    .dataframe tbody tr th {\n",
       "        vertical-align: top;\n",
       "    }\n",
       "\n",
       "    .dataframe thead th {\n",
       "        text-align: right;\n",
       "    }\n",
       "</style>\n",
       "<table border=\"1\" class=\"dataframe\">\n",
       "  <thead>\n",
       "    <tr style=\"text-align: right;\">\n",
       "      <th></th>\n",
       "      <th>City ID</th>\n",
       "      <th>City Name</th>\n",
       "      <th>Country</th>\n",
       "      <th>Cloudiness</th>\n",
       "      <th>Max Temp</th>\n",
       "      <th>Wind Speed</th>\n",
       "      <th>Humidity</th>\n",
       "      <th>Lat</th>\n",
       "      <th>Lng</th>\n",
       "    </tr>\n",
       "  </thead>\n",
       "  <tbody>\n",
       "    <tr>\n",
       "      <th>0</th>\n",
       "      <td>0</td>\n",
       "      <td>Punta Arenas</td>\n",
       "      <td>CL</td>\n",
       "      <td>0</td>\n",
       "      <td>51.80</td>\n",
       "      <td>18.41</td>\n",
       "      <td>58</td>\n",
       "      <td>-53.1500</td>\n",
       "      <td>-70.9167</td>\n",
       "    </tr>\n",
       "    <tr>\n",
       "      <th>1</th>\n",
       "      <td>1</td>\n",
       "      <td>Butaritari</td>\n",
       "      <td>KI</td>\n",
       "      <td>70</td>\n",
       "      <td>81.88</td>\n",
       "      <td>14.97</td>\n",
       "      <td>77</td>\n",
       "      <td>3.0707</td>\n",
       "      <td>172.7902</td>\n",
       "    </tr>\n",
       "    <tr>\n",
       "      <th>2</th>\n",
       "      <td>2</td>\n",
       "      <td>Bluff</td>\n",
       "      <td>NZ</td>\n",
       "      <td>42</td>\n",
       "      <td>57.99</td>\n",
       "      <td>8.01</td>\n",
       "      <td>74</td>\n",
       "      <td>-46.6000</td>\n",
       "      <td>168.3333</td>\n",
       "    </tr>\n",
       "    <tr>\n",
       "      <th>3</th>\n",
       "      <td>3</td>\n",
       "      <td>Kirakira</td>\n",
       "      <td>SB</td>\n",
       "      <td>96</td>\n",
       "      <td>80.92</td>\n",
       "      <td>6.22</td>\n",
       "      <td>81</td>\n",
       "      <td>-10.4544</td>\n",
       "      <td>161.9205</td>\n",
       "    </tr>\n",
       "    <tr>\n",
       "      <th>4</th>\n",
       "      <td>4</td>\n",
       "      <td>Airai</td>\n",
       "      <td>TL</td>\n",
       "      <td>98</td>\n",
       "      <td>64.51</td>\n",
       "      <td>0.94</td>\n",
       "      <td>97</td>\n",
       "      <td>-8.9266</td>\n",
       "      <td>125.4092</td>\n",
       "    </tr>\n",
       "    <tr>\n",
       "      <th>...</th>\n",
       "      <td>...</td>\n",
       "      <td>...</td>\n",
       "      <td>...</td>\n",
       "      <td>...</td>\n",
       "      <td>...</td>\n",
       "      <td>...</td>\n",
       "      <td>...</td>\n",
       "      <td>...</td>\n",
       "      <td>...</td>\n",
       "    </tr>\n",
       "    <tr>\n",
       "      <th>552</th>\n",
       "      <td>552</td>\n",
       "      <td>Mashhad</td>\n",
       "      <td>IR</td>\n",
       "      <td>0</td>\n",
       "      <td>42.80</td>\n",
       "      <td>3.76</td>\n",
       "      <td>70</td>\n",
       "      <td>36.2970</td>\n",
       "      <td>59.6062</td>\n",
       "    </tr>\n",
       "    <tr>\n",
       "      <th>553</th>\n",
       "      <td>553</td>\n",
       "      <td>Cuamba</td>\n",
       "      <td>MZ</td>\n",
       "      <td>100</td>\n",
       "      <td>70.72</td>\n",
       "      <td>0.54</td>\n",
       "      <td>97</td>\n",
       "      <td>-14.8031</td>\n",
       "      <td>36.5372</td>\n",
       "    </tr>\n",
       "    <tr>\n",
       "      <th>554</th>\n",
       "      <td>554</td>\n",
       "      <td>Harbour Breton</td>\n",
       "      <td>CA</td>\n",
       "      <td>100</td>\n",
       "      <td>20.88</td>\n",
       "      <td>28.03</td>\n",
       "      <td>97</td>\n",
       "      <td>47.4833</td>\n",
       "      <td>-55.7983</td>\n",
       "    </tr>\n",
       "    <tr>\n",
       "      <th>555</th>\n",
       "      <td>555</td>\n",
       "      <td>Siderno</td>\n",
       "      <td>IT</td>\n",
       "      <td>77</td>\n",
       "      <td>57.20</td>\n",
       "      <td>10.36</td>\n",
       "      <td>72</td>\n",
       "      <td>38.2779</td>\n",
       "      <td>16.3020</td>\n",
       "    </tr>\n",
       "    <tr>\n",
       "      <th>556</th>\n",
       "      <td>556</td>\n",
       "      <td>Manokwari</td>\n",
       "      <td>ID</td>\n",
       "      <td>96</td>\n",
       "      <td>81.12</td>\n",
       "      <td>3.78</td>\n",
       "      <td>73</td>\n",
       "      <td>-0.8667</td>\n",
       "      <td>134.0833</td>\n",
       "    </tr>\n",
       "  </tbody>\n",
       "</table>\n",
       "<p>557 rows × 9 columns</p>\n",
       "</div>"
      ],
      "text/plain": [
       "     City ID       City Name Country  Cloudiness  Max Temp  Wind Speed  \\\n",
       "0          0    Punta Arenas      CL           0     51.80       18.41   \n",
       "1          1      Butaritari      KI          70     81.88       14.97   \n",
       "2          2           Bluff      NZ          42     57.99        8.01   \n",
       "3          3        Kirakira      SB          96     80.92        6.22   \n",
       "4          4           Airai      TL          98     64.51        0.94   \n",
       "..       ...             ...     ...         ...       ...         ...   \n",
       "552      552         Mashhad      IR           0     42.80        3.76   \n",
       "553      553          Cuamba      MZ         100     70.72        0.54   \n",
       "554      554  Harbour Breton      CA         100     20.88       28.03   \n",
       "555      555         Siderno      IT          77     57.20       10.36   \n",
       "556      556       Manokwari      ID          96     81.12        3.78   \n",
       "\n",
       "     Humidity      Lat       Lng  \n",
       "0          58 -53.1500  -70.9167  \n",
       "1          77   3.0707  172.7902  \n",
       "2          74 -46.6000  168.3333  \n",
       "3          81 -10.4544  161.9205  \n",
       "4          97  -8.9266  125.4092  \n",
       "..        ...      ...       ...  \n",
       "552        70  36.2970   59.6062  \n",
       "553        97 -14.8031   36.5372  \n",
       "554        97  47.4833  -55.7983  \n",
       "555        72  38.2779   16.3020  \n",
       "556        73  -0.8667  134.0833  \n",
       "\n",
       "[557 rows x 9 columns]"
      ]
     },
     "execution_count": 12,
     "metadata": {},
     "output_type": "execute_result"
    }
   ],
   "source": [
    "city_dataframe = pd.read_csv(\"city_dataframe.csv\")\n",
    "city_dataframe"
   ]
  },
  {
   "cell_type": "code",
   "execution_count": 13,
   "metadata": {},
   "outputs": [
    {
     "data": {
      "text/html": [
       "<div>\n",
       "<style scoped>\n",
       "    .dataframe tbody tr th:only-of-type {\n",
       "        vertical-align: middle;\n",
       "    }\n",
       "\n",
       "    .dataframe tbody tr th {\n",
       "        vertical-align: top;\n",
       "    }\n",
       "\n",
       "    .dataframe thead th {\n",
       "        text-align: right;\n",
       "    }\n",
       "</style>\n",
       "<table border=\"1\" class=\"dataframe\">\n",
       "  <thead>\n",
       "    <tr style=\"text-align: right;\">\n",
       "      <th></th>\n",
       "      <th>City ID</th>\n",
       "      <th>City Name</th>\n",
       "      <th>Country</th>\n",
       "      <th>Cloudiness</th>\n",
       "      <th>Max Temp</th>\n",
       "      <th>Wind Speed</th>\n",
       "      <th>Humidity</th>\n",
       "      <th>Lat</th>\n",
       "      <th>Lng</th>\n",
       "    </tr>\n",
       "  </thead>\n",
       "  <tbody>\n",
       "    <tr>\n",
       "      <th>0</th>\n",
       "      <td>0</td>\n",
       "      <td>Punta Arenas</td>\n",
       "      <td>CL</td>\n",
       "      <td>0</td>\n",
       "      <td>51.80</td>\n",
       "      <td>18.41</td>\n",
       "      <td>58</td>\n",
       "      <td>-53.1500</td>\n",
       "      <td>-70.9167</td>\n",
       "    </tr>\n",
       "    <tr>\n",
       "      <th>1</th>\n",
       "      <td>1</td>\n",
       "      <td>Butaritari</td>\n",
       "      <td>KI</td>\n",
       "      <td>70</td>\n",
       "      <td>81.88</td>\n",
       "      <td>14.97</td>\n",
       "      <td>77</td>\n",
       "      <td>3.0707</td>\n",
       "      <td>172.7902</td>\n",
       "    </tr>\n",
       "    <tr>\n",
       "      <th>2</th>\n",
       "      <td>2</td>\n",
       "      <td>Bluff</td>\n",
       "      <td>NZ</td>\n",
       "      <td>42</td>\n",
       "      <td>57.99</td>\n",
       "      <td>8.01</td>\n",
       "      <td>74</td>\n",
       "      <td>-46.6000</td>\n",
       "      <td>168.3333</td>\n",
       "    </tr>\n",
       "    <tr>\n",
       "      <th>3</th>\n",
       "      <td>3</td>\n",
       "      <td>Kirakira</td>\n",
       "      <td>SB</td>\n",
       "      <td>96</td>\n",
       "      <td>80.92</td>\n",
       "      <td>6.22</td>\n",
       "      <td>81</td>\n",
       "      <td>-10.4544</td>\n",
       "      <td>161.9205</td>\n",
       "    </tr>\n",
       "    <tr>\n",
       "      <th>4</th>\n",
       "      <td>4</td>\n",
       "      <td>Airai</td>\n",
       "      <td>TL</td>\n",
       "      <td>98</td>\n",
       "      <td>64.51</td>\n",
       "      <td>0.94</td>\n",
       "      <td>97</td>\n",
       "      <td>-8.9266</td>\n",
       "      <td>125.4092</td>\n",
       "    </tr>\n",
       "    <tr>\n",
       "      <th>...</th>\n",
       "      <td>...</td>\n",
       "      <td>...</td>\n",
       "      <td>...</td>\n",
       "      <td>...</td>\n",
       "      <td>...</td>\n",
       "      <td>...</td>\n",
       "      <td>...</td>\n",
       "      <td>...</td>\n",
       "      <td>...</td>\n",
       "    </tr>\n",
       "    <tr>\n",
       "      <th>552</th>\n",
       "      <td>552</td>\n",
       "      <td>Mashhad</td>\n",
       "      <td>IR</td>\n",
       "      <td>0</td>\n",
       "      <td>42.80</td>\n",
       "      <td>3.76</td>\n",
       "      <td>70</td>\n",
       "      <td>36.2970</td>\n",
       "      <td>59.6062</td>\n",
       "    </tr>\n",
       "    <tr>\n",
       "      <th>553</th>\n",
       "      <td>553</td>\n",
       "      <td>Cuamba</td>\n",
       "      <td>MZ</td>\n",
       "      <td>100</td>\n",
       "      <td>70.72</td>\n",
       "      <td>0.54</td>\n",
       "      <td>97</td>\n",
       "      <td>-14.8031</td>\n",
       "      <td>36.5372</td>\n",
       "    </tr>\n",
       "    <tr>\n",
       "      <th>554</th>\n",
       "      <td>554</td>\n",
       "      <td>Harbour Breton</td>\n",
       "      <td>CA</td>\n",
       "      <td>100</td>\n",
       "      <td>20.88</td>\n",
       "      <td>28.03</td>\n",
       "      <td>97</td>\n",
       "      <td>47.4833</td>\n",
       "      <td>-55.7983</td>\n",
       "    </tr>\n",
       "    <tr>\n",
       "      <th>555</th>\n",
       "      <td>555</td>\n",
       "      <td>Siderno</td>\n",
       "      <td>IT</td>\n",
       "      <td>77</td>\n",
       "      <td>57.20</td>\n",
       "      <td>10.36</td>\n",
       "      <td>72</td>\n",
       "      <td>38.2779</td>\n",
       "      <td>16.3020</td>\n",
       "    </tr>\n",
       "    <tr>\n",
       "      <th>556</th>\n",
       "      <td>556</td>\n",
       "      <td>Manokwari</td>\n",
       "      <td>ID</td>\n",
       "      <td>96</td>\n",
       "      <td>81.12</td>\n",
       "      <td>3.78</td>\n",
       "      <td>73</td>\n",
       "      <td>-0.8667</td>\n",
       "      <td>134.0833</td>\n",
       "    </tr>\n",
       "  </tbody>\n",
       "</table>\n",
       "<p>557 rows × 9 columns</p>\n",
       "</div>"
      ],
      "text/plain": [
       "     City ID       City Name Country  Cloudiness  Max Temp  Wind Speed  \\\n",
       "0          0    Punta Arenas      CL           0     51.80       18.41   \n",
       "1          1      Butaritari      KI          70     81.88       14.97   \n",
       "2          2           Bluff      NZ          42     57.99        8.01   \n",
       "3          3        Kirakira      SB          96     80.92        6.22   \n",
       "4          4           Airai      TL          98     64.51        0.94   \n",
       "..       ...             ...     ...         ...       ...         ...   \n",
       "552      552         Mashhad      IR           0     42.80        3.76   \n",
       "553      553          Cuamba      MZ         100     70.72        0.54   \n",
       "554      554  Harbour Breton      CA         100     20.88       28.03   \n",
       "555      555         Siderno      IT          77     57.20       10.36   \n",
       "556      556       Manokwari      ID          96     81.12        3.78   \n",
       "\n",
       "     Humidity      Lat       Lng  \n",
       "0          58 -53.1500  -70.9167  \n",
       "1          77   3.0707  172.7902  \n",
       "2          74 -46.6000  168.3333  \n",
       "3          81 -10.4544  161.9205  \n",
       "4          97  -8.9266  125.4092  \n",
       "..        ...      ...       ...  \n",
       "552        70  36.2970   59.6062  \n",
       "553        97 -14.8031   36.5372  \n",
       "554        97  47.4833  -55.7983  \n",
       "555        72  38.2779   16.3020  \n",
       "556        73  -0.8667  134.0833  \n",
       "\n",
       "[557 rows x 9 columns]"
      ]
     },
     "execution_count": 13,
     "metadata": {},
     "output_type": "execute_result"
    }
   ],
   "source": [
    "city_dataframe[city_dataframe[\"Humidity\"] <= 100]"
   ]
  },
  {
   "cell_type": "code",
   "execution_count": 14,
   "metadata": {},
   "outputs": [
    {
     "data": {
      "text/html": [
       "<div>\n",
       "<style scoped>\n",
       "    .dataframe tbody tr th:only-of-type {\n",
       "        vertical-align: middle;\n",
       "    }\n",
       "\n",
       "    .dataframe tbody tr th {\n",
       "        vertical-align: top;\n",
       "    }\n",
       "\n",
       "    .dataframe thead th {\n",
       "        text-align: right;\n",
       "    }\n",
       "</style>\n",
       "<table border=\"1\" class=\"dataframe\">\n",
       "  <thead>\n",
       "    <tr style=\"text-align: right;\">\n",
       "      <th></th>\n",
       "      <th>City ID</th>\n",
       "      <th>City Name</th>\n",
       "      <th>Country</th>\n",
       "      <th>Cloudiness</th>\n",
       "      <th>Max Temp</th>\n",
       "      <th>Wind Speed</th>\n",
       "      <th>Humidity</th>\n",
       "      <th>Lat</th>\n",
       "      <th>Lng</th>\n",
       "    </tr>\n",
       "  </thead>\n",
       "  <tbody>\n",
       "  </tbody>\n",
       "</table>\n",
       "</div>"
      ],
      "text/plain": [
       "Empty DataFrame\n",
       "Columns: [City ID, City Name, Country, Cloudiness, Max Temp, Wind Speed, Humidity, Lat, Lng]\n",
       "Index: []"
      ]
     },
     "execution_count": 14,
     "metadata": {},
     "output_type": "execute_result"
    }
   ],
   "source": [
    "# no cities with > 100%\n",
    "city_dataframe_greater_than_100 = city_dataframe.query(\"Humidity >  100\")\n",
    "city_dataframe_greater_than_100"
   ]
  },
  {
   "cell_type": "code",
   "execution_count": null,
   "metadata": {},
   "outputs": [],
   "source": [
    "#  Get the indices of cities that have humidity over 100%.\n"
   ]
  },
  {
   "cell_type": "code",
   "execution_count": null,
   "metadata": {},
   "outputs": [],
   "source": [
    "# Make a new DataFrame equal to the city data to drop all humidity outliers by index.\n",
    "# Passing \"inplace=False\" will make a copy of the city_data DataFrame, which we call \"clean_city_data\".\n"
   ]
  },
  {
   "cell_type": "code",
   "execution_count": null,
   "metadata": {},
   "outputs": [],
   "source": [
    "\n"
   ]
  },
  {
   "cell_type": "markdown",
   "metadata": {},
   "source": [
    "## Plotting the Data\n",
    "* Use proper labeling of the plots using plot titles (including date of analysis) and axes labels.\n",
    "* Save the plotted figures as .pngs."
   ]
  },
  {
   "cell_type": "markdown",
   "metadata": {},
   "source": [
    "## Latitude vs. Temperature Plot"
   ]
  },
  {
   "cell_type": "code",
   "execution_count": 17,
   "metadata": {
    "scrolled": true
   },
   "outputs": [
    {
     "data": {
      "image/png": "[encoded data removed]",
      "text/plain": [
       "<Figure size 432x288 with 1 Axes>"
      ]
     },
     "metadata": {
      "needs_background": "light"
     },
     "output_type": "display_data"
    },
    {
     "data": {
      "text/plain": [
       "<Figure size 432x288 with 0 Axes>"
      ]
     },
     "metadata": {},
     "output_type": "display_data"
    }
   ],
   "source": [
    "plt.scatter(city_dataframe[\"Lat\"], city_dataframe[\"Max Temp\"], marker = \"o\", color = \"black\", edgecolor = \"black\")\n",
    "plt.grid()\n",
    "plt.xlabel(\"Latitude\")\n",
    "plt.ylabel(\"Temperature\")\n",
    "plt.title(\"Latitude vs. Temperature Plot\")\n",
    "plt.show()\n",
    "plt.savefig(\"Lat_Temp.png\")\n",
    "\n",
    "## need to save to .png"
   ]
  },
  {
   "cell_type": "markdown",
   "metadata": {},
   "source": [
    "## Latitude vs. Humidity Plot"
   ]
  },
  {
   "cell_type": "code",
   "execution_count": 58,
   "metadata": {},
   "outputs": [
    {
     "data": {
      "text/plain": [
       "<function matplotlib.pyplot.show(*args, **kw)>"
      ]
     },
     "execution_count": 58,
     "metadata": {},
     "output_type": "execute_result"
    },
    {
     "data": {
      "image/png": "[encoded data removed]",
      "text/plain": [
       "<Figure size 432x288 with 1 Axes>"
      ]
     },
     "metadata": {
      "needs_background": "light"
     },
     "output_type": "display_data"
    }
   ],
   "source": [
    "plt.scatter(city_dataframe[\"Lat\"], city_dataframe[\"Humidity\"], marker = \"o\", color = \"black\", edgecolor = \"black\")\n",
    "plt.grid()\n",
    "plt.xlabel(\"Latitude\")\n",
    "plt.ylabel(\"Humidity\")\n",
    "plt.title(\"Latitude vs. Humidity Plot\")\n",
    "plt.show\n",
    "\n",
    "## need to save to .pngs"
   ]
  },
  {
   "cell_type": "markdown",
   "metadata": {},
   "source": [
    "## Latitude vs. Cloudiness Plot"
   ]
  },
  {
   "cell_type": "code",
   "execution_count": 59,
   "metadata": {},
   "outputs": [
    {
     "data": {
      "text/plain": [
       "<function matplotlib.pyplot.show(*args, **kw)>"
      ]
     },
     "execution_count": 59,
     "metadata": {},
     "output_type": "execute_result"
    },
    {
     "data": {
      "image/png": "[encoded data removed]",
      "text/plain": [
       "<Figure size 432x288 with 1 Axes>"
      ]
     },
     "metadata": {
      "needs_background": "light"
     },
     "output_type": "display_data"
    }
   ],
   "source": [
    "plt.scatter(city_dataframe[\"Lat\"], city_dataframe[\"Cloudiness\"], marker = \"o\", color = \"black\", edgecolor = \"black\")\n",
    "plt.grid()\n",
    "plt.xlabel(\"Latitude\")\n",
    "plt.ylabel(\"Cloudiness\")\n",
    "plt.title(\"Latitude vs. Cloudiness Plot\")\n",
    "plt.show\n",
    "\n",
    "## need to save to .pngs"
   ]
  },
  {
   "cell_type": "markdown",
   "metadata": {},
   "source": [
    "## Latitude vs. Wind Speed Plot"
   ]
  },
  {
   "cell_type": "code",
   "execution_count": 60,
   "metadata": {},
   "outputs": [
    {
     "data": {
      "text/plain": [
       "<function matplotlib.pyplot.show(*args, **kw)>"
      ]
     },
     "execution_count": 60,
     "metadata": {},
     "output_type": "execute_result"
    },
    {
     "data": {
      "image/png": "[encoded data removed]",
      "text/plain": [
       "<Figure size 432x288 with 1 Axes>"
      ]
     },
     "metadata": {
      "needs_background": "light"
     },
     "output_type": "display_data"
    }
   ],
   "source": [
    "plt.scatter(city_dataframe[\"Lat\"], city_dataframe[\"Wind Speed\"], marker = \"o\", color = \"black\", edgecolor = \"black\")\n",
    "plt.grid()\n",
    "plt.xlabel(\"Latitude\")\n",
    "plt.ylabel(\"Wind Speeds\")\n",
    "plt.title(\"Latitude vs. Wind Speed\")\n",
    "plt.show\n",
    "\n",
    "## need to save to .pngs"
   ]
  },
  {
   "cell_type": "markdown",
   "metadata": {},
   "source": [
    "## Linear Regression"
   ]
  },
  {
   "cell_type": "code",
   "execution_count": 25,
   "metadata": {},
   "outputs": [],
   "source": [
    "def linear_reg_plot(x_values,y_values, textcoords):\n",
    "    (slope, intercept, rvalue, pvalue, stderr) = linregress(x_values, y_values)\n",
    "    regress_values = x_values * slope + intercept\n",
    "    line_eq = \"y = \" + str(round(slope,2)) + \"x + \" + str(round(intercept,2))\n",
    "    plt.scatter(x_values,y_values)\n",
    "    plt.plot(x_values,regress_values,\"r-\")\n",
    "    plt.annotate(line_eq,textcoords,fontsize=20,color=\"red\",)\n",
    "    plt.xlabel(\"Latitude\")\n",
    "    print(f\"The r-squared is: {rvalue}\")\n",
    "    plt.show()"
   ]
  },
  {
   "cell_type": "markdown",
   "metadata": {},
   "source": [
    "####  Northern Hemisphere - Max Temp vs. Latitude Linear Regression"
   ]
  },
  {
   "cell_type": "code",
   "execution_count": 26,
   "metadata": {
    "scrolled": true
   },
   "outputs": [
    {
     "name": "stdout",
     "output_type": "stream",
     "text": [
      "The r-squared is: -0.8761565695370204\n"
     ]
    },
    {
     "data": {
      "image/png": "[encoded data removed]",
      "text/plain": [
       "<Figure size 432x288 with 1 Axes>"
      ]
     },
     "metadata": {
      "needs_background": "light"
     },
     "output_type": "display_data"
    }
   ],
   "source": [
    "northern_hemisphere = city_dataframe.loc[city_dataframe[\"Lat\"] > 0]\n",
    "x_values = northern_hemisphere[\"Lat\"]\n",
    "y_values = northern_hemisphere[\"Max Temp\"]\n",
    "plt.ylabel(\"Max Temp (F)\")\n",
    "linear_reg_plot(x_values,y_values, (0,0))\n"
   ]
  },
  {
   "cell_type": "markdown",
   "metadata": {},
   "source": [
    "####  Southern Hemisphere - Max Temp vs. Latitude Linear Regression"
   ]
  },
  {
   "cell_type": "code",
   "execution_count": 27,
   "metadata": {},
   "outputs": [
    {
     "name": "stdout",
     "output_type": "stream",
     "text": [
      "The r-squared is: 0.5564917887790505\n"
     ]
    },
    {
     "data": {
      "image/png": "[encoded data removed]",
      "text/plain": [
       "<Figure size 432x288 with 1 Axes>"
      ]
     },
     "metadata": {
      "needs_background": "light"
     },
     "output_type": "display_data"
    }
   ],
   "source": [
    "Southern_hemisphere = city_dataframe.loc[city_dataframe[\"Lat\"]<0]\n",
    "x_values = Southern_hemisphere[\"Lat\"]\n",
    "y_values = Southern_hemisphere[\"Max Temp\"]\n",
    "plt.ylabel(\"Max Temp (F)\")\n",
    "linear_reg_plot(x_values,y_values, (55,-22))\n"
   ]
  },
  {
   "cell_type": "markdown",
   "metadata": {},
   "source": [
    "####  Northern Hemisphere - Humidity (%) vs. Latitude Linear Regression"
   ]
  },
  {
   "cell_type": "code",
   "execution_count": 106,
   "metadata": {},
   "outputs": [
    {
     "name": "stdout",
     "output_type": "stream",
     "text": [
      "The r-squared is: 0.33077918622306535\n"
     ]
    },
    {
     "data": {
      "image/png": "[encoded data removed]",
      "text/plain": [
       "<Figure size 432x288 with 1 Axes>"
      ]
     },
     "metadata": {
      "needs_background": "light"
     },
     "output_type": "display_data"
    },
    {
     "name": "stdout",
     "output_type": "stream",
     "text": [
      "None\n"
     ]
    }
   ],
   "source": [
    "x_values = northern_hemisphere[\"Lat\"]\n",
    "y_values = northern_hemisphere[\"Humidity\"]\n",
    "plt.ylabel(\"Humidity (%)\")\n",
    "print(linear_reg_plot(x_values,y_values))"
   ]
  },
  {
   "cell_type": "markdown",
   "metadata": {},
   "source": [
    "####  Southern Hemisphere - Humidity (%) vs. Latitude Linear Regression"
   ]
  },
  {
   "cell_type": "code",
   "execution_count": 107,
   "metadata": {},
   "outputs": [
    {
     "name": "stdout",
     "output_type": "stream",
     "text": [
      "The r-squared is: 0.44973665846855343\n"
     ]
    },
    {
     "data": {
      "image/png": "[encoded data removed]",
      "text/plain": [
       "<Figure size 432x288 with 1 Axes>"
      ]
     },
     "metadata": {
      "needs_background": "light"
     },
     "output_type": "display_data"
    },
    {
     "name": "stdout",
     "output_type": "stream",
     "text": [
      "None\n"
     ]
    }
   ],
   "source": [
    "x_values = Southern_hemisphere[\"Lat\"]\n",
    "y_values = Southern_hemisphere[\"Humidity\"]\n",
    "plt.ylim(0, y_values.max()+100)\n",
    "plt.ylabel(\"Humidity (%)\")\n",
    "print(linear_reg_plot(x_values,y_values))"
   ]
  },
  {
   "cell_type": "markdown",
   "metadata": {},
   "source": [
    "####  Northern Hemisphere - Cloudiness (%) vs. Latitude Linear Regression"
   ]
  },
  {
   "cell_type": "code",
   "execution_count": 109,
   "metadata": {},
   "outputs": [
    {
     "name": "stdout",
     "output_type": "stream",
     "text": [
      "The r-squared is: 0.19671201365706115\n"
     ]
    },
    {
     "data": {
      "image/png": "[encoded data removed]",
      "text/plain": [
       "<Figure size 432x288 with 1 Axes>"
      ]
     },
     "metadata": {
      "needs_background": "light"
     },
     "output_type": "display_data"
    },
    {
     "name": "stdout",
     "output_type": "stream",
     "text": [
      "None\n"
     ]
    }
   ],
   "source": [
    "x_values = northern_hemisphere[\"Lat\"]\n",
    "y_values = northern_hemisphere[\"Cloudiness\"]\n",
    "plt.ylabel(\"Cloudiness\")\n",
    "print(linear_reg_plot(x_values,y_values))"
   ]
  },
  {
   "cell_type": "markdown",
   "metadata": {},
   "source": [
    "####  Southern Hemisphere - Cloudiness (%) vs. Latitude Linear Regression"
   ]
  },
  {
   "cell_type": "code",
   "execution_count": 110,
   "metadata": {},
   "outputs": [
    {
     "name": "stdout",
     "output_type": "stream",
     "text": [
      "The r-squared is: 0.3755513911288717\n"
     ]
    },
    {
     "data": {
      "image/png": "[encoded data removed]",
      "text/plain": [
       "<Figure size 432x288 with 1 Axes>"
      ]
     },
     "metadata": {
      "needs_background": "light"
     },
     "output_type": "display_data"
    },
    {
     "name": "stdout",
     "output_type": "stream",
     "text": [
      "None\n"
     ]
    }
   ],
   "source": [
    "x_values = Southern_hemisphere[\"Lat\"]\n",
    "y_values = Southern_hemisphere[\"Cloudiness\"]\n",
    "plt.ylabel(\"Cloudiness\")\n",
    "print(linear_reg_plot(x_values,y_values))\n"
   ]
  },
  {
   "cell_type": "markdown",
   "metadata": {},
   "source": [
    "####  Northern Hemisphere - Wind Speed (mph) vs. Latitude Linear Regression"
   ]
  },
  {
   "cell_type": "code",
   "execution_count": 112,
   "metadata": {},
   "outputs": [
    {
     "name": "stdout",
     "output_type": "stream",
     "text": [
      "The r-squared is: 0.10742298421404414\n"
     ]
    },
    {
     "data": {
      "image/png": "[encoded data removed]",
      "text/plain": [
       "<Figure size 432x288 with 1 Axes>"
      ]
     },
     "metadata": {
      "needs_background": "light"
     },
     "output_type": "display_data"
    },
    {
     "name": "stdout",
     "output_type": "stream",
     "text": [
      "None\n"
     ]
    }
   ],
   "source": [
    "x_values = northern_hemisphere[\"Lat\"]\n",
    "y_values = northern_hemisphere[\"Wind Speed\"]\n",
    "plt.ylabel(\"Wind Speed\")\n",
    "print(linear_reg_plot(x_values,y_values))"
   ]
  },
  {
   "cell_type": "markdown",
   "metadata": {},
   "source": [
    "####  Southern Hemisphere - Wind Speed (mph) vs. Latitude Linear Regression"
   ]
  },
  {
   "cell_type": "code",
   "execution_count": 114,
   "metadata": {},
   "outputs": [
    {
     "name": "stdout",
     "output_type": "stream",
     "text": [
      "The r-squared is: -0.3277290700680158\n"
     ]
    },
    {
     "data": {
      "image/png": "[encoded data removed]",
      "text/plain": [
       "<Figure size 432x288 with 1 Axes>"
      ]
     },
     "metadata": {
      "needs_background": "light"
     },
     "output_type": "display_data"
    },
    {
     "name": "stdout",
     "output_type": "stream",
     "text": [
      "None\n"
     ]
    }
   ],
   "source": [
    "x_values = Southern_hemisphere[\"Lat\"]\n",
    "y_values = Southern_hemisphere[\"Wind Speed\"]\n",
    "plt.ylabel(\"Wind Speed\")\n",
    "print(linear_reg_plot(x_values,y_values))\n",
    "\n"
   ]
  },
  {
   "cell_type": "code",
   "execution_count": null,
   "metadata": {},
   "outputs": [],
   "source": []
  }
 ],
 "metadata": {
  "anaconda-cloud": {},
  "kernel_info": {
   "name": "python3"
  },
  "kernelspec": {
   "display_name": "Python 3",
   "language": "python",
   "name": "python3"
  },
  "language_info": {
   "codemirror_mode": {
    "name": "ipython",
    "version": 3
   },
   "file_extension": ".py",
   "mimetype": "text/x-python",
   "name": "python",
   "nbconvert_exporter": "python",
   "pygments_lexer": "ipython3",
   "version": "3.6.10"
  },
  "latex_envs": {
   "LaTeX_envs_menu_present": true,
   "autoclose": false,
   "autocomplete": true,
   "bibliofile": "biblio.bib",
   "cite_by": "apalike",
   "current_citInitial": 1,
   "eqLabelWithNumbers": true,
   "eqNumInitial": 1,
   "hotkeys": {
    "equation": "Ctrl-E",
    "itemize": "Ctrl-I"
   },
   "labels_anchors": false,
   "latex_user_defs": false,
   "report_style_numbering": false,
   "user_envs_cfg": false
  },
  "nteract": {
   "version": "0.12.3"
  }
 },
 "nbformat": 4,
 "nbformat_minor": 2
}
